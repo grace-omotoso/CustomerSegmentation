{
 "cells": [
  {
   "cell_type": "markdown",
   "metadata": {},
   "source": [
    "# Capstone Project: Create a Customer Segmentation Report for Arvato Financial Services\n",
    "\n",
    "In this project, you will analyze demographics data for customers of a mail-order sales company in Germany, comparing it against demographics information for the general population. You'll use unsupervised learning techniques to perform customer segmentation, identifying the parts of the population that best describe the core customer base of the company. Then, you'll apply what you've learned on a third dataset with demographics information for targets of a marketing campaign for the company, and use a model to predict which individuals are most likely to convert into becoming customers for the company. The data that you will use has been provided by our partners at Bertelsmann Arvato Analytics, and represents a real-life data science task.\n",
    "\n",
    "The versions of those two datasets used in this project will include many more features and has not been pre-cleaned. You are also free to choose whatever approach you'd like to analyzing the data rather than follow pre-determined steps. In your work on this project, make sure that you carefully document your steps and decisions, since your main deliverable for this project will be a blog post reporting your findings."
   ]
  },
  {
   "cell_type": "code",
   "execution_count": 1,
   "metadata": {},
   "outputs": [
    {
     "name": "stdout",
     "output_type": "stream",
     "text": [
      "/Users/bukolaolumoyin/Documents/CustomerSegmentation\n"
     ]
    }
   ],
   "source": [
    "# Check the present working directory\n",
    "!pwd"
   ]
  },
  {
   "cell_type": "markdown",
   "metadata": {},
   "source": [
    "### Download the data\n",
    "If you do not have the required **data/** directory in your workspace, follow the instructions below. Use either one of the methods below. \n",
    "\n",
    "**Method 1** <br/>\n",
    "You must [download this dataset](https://video.udacity-data.com/topher/2024/August/66b9ba05_arvato_data.tar/arvato_data.tar.gz) from the Downloads section in the classroom, and upload it into the workspace. After you upload the tar file to the present working  directory, **/workspace/cd1971 Data Scientist Capstone/Bertelsmann_Arvato Project Workspace/**,  in the Jupyter server, you can open a terminal and the run the following command to extract the dataset from the compressed file. \n",
    "```bash\n",
    "!tar -xzvf arvato_data.tar.gz\n",
    "```\n",
    "This command will extract all the contents of arvato_data.tar.gz into the current directory. \n",
    "\n",
    "**Method 2** <br/>\n",
    "Execute the Python code below to download the dataset. \n"
   ]
  },
  {
   "cell_type": "code",
   "execution_count": 2,
   "metadata": {},
   "outputs": [
    {
     "name": "stdout",
     "output_type": "stream",
     "text": [
      "Requirement already satisfied: pycodestyle in /opt/anaconda3/lib/python3.11/site-packages (2.10.0)\n",
      "Requirement already satisfied: pycodestyle_magic in /opt/anaconda3/lib/python3.11/site-packages (0.5)\n",
      "Requirement already satisfied: flake8 in /opt/anaconda3/lib/python3.11/site-packages (6.0.0)\n",
      "Requirement already satisfied: mccabe<0.8.0,>=0.7.0 in /opt/anaconda3/lib/python3.11/site-packages (from flake8) (0.7.0)\n",
      "Requirement already satisfied: pycodestyle<2.11.0,>=2.10.0 in /opt/anaconda3/lib/python3.11/site-packages (from flake8) (2.10.0)\n",
      "Requirement already satisfied: pyflakes<3.1.0,>=3.0.0 in /opt/anaconda3/lib/python3.11/site-packages (from flake8) (3.0.1)\n"
     ]
    }
   ],
   "source": [
    "# import libraries\n",
    "!pip install pycodestyle pycodestyle_magic\n",
    "!pip install flake8\n",
    "%load_ext pycodestyle_magic"
   ]
  },
  {
   "cell_type": "code",
   "execution_count": 1,
   "metadata": {},
   "outputs": [
    {
     "name": "stdout",
     "output_type": "stream",
     "text": [
      "Downloading the file...\n",
      "Download completed.\n",
      "Extracting the file...\n",
      "Extraction completed.\n",
      "Downloaded tar.gz file removed.\n"
     ]
    }
   ],
   "source": [
    "import requests\n",
    "import tarfile\n",
    "import os\n",
    "\n",
    "\n",
    "def download_and_extract(url, extract_to='.'):\n",
    "    \"\"\"\n",
    "    Downloads a tar.gz file from a URL and extracts it to a directory.\n",
    "    Args:\n",
    "    - url (str): URL of the tar.gz file to download.\n",
    "    - extract_to (str): Directory path to extract the contents of the tar.gz file.\n",
    "    \"\"\"\n",
    "    # Get the filename from the URL\n",
    "    filename = url.split('/')[-1]\n",
    "\n",
    "    # Download the file\n",
    "    print(\"Downloading the file...\")\n",
    "    response = requests.get(url, stream=True)\n",
    "    if response.status_code == 200:\n",
    "        with open(filename, 'wb') as file:\n",
    "            file.write(response.raw.read())\n",
    "        print(\"Download completed.\")\n",
    "    else:\n",
    "        print(\"Failed to download the file.\")\n",
    "        return\n",
    "\n",
    "    # Extract the tar.gz file\n",
    "    print(\"Extracting the file...\")\n",
    "    try:\n",
    "        with tarfile.open(filename, 'r:gz') as tar:\n",
    "            tar.extractall(path=extract_to)\n",
    "        print(\"Extraction completed.\")\n",
    "    except Exception as e:\n",
    "        print(f\"Failed to extract the file: {e}\")\n",
    "    finally:\n",
    "        # Optionally remove the tar.gz file after extraction\n",
    "        os.remove(filename)\n",
    "        print(\"Downloaded tar.gz file removed.\")\n",
    "\n",
    "# URL of the tar.gz file\n",
    "url = 'https://video.udacity-data.com/topher/2024/August/66b9ba05_arvato_data.tar/arvato_data.tar.gz'\n",
    "\n",
    "# Call the function with the URL\n",
    "download_and_extract(url)\n",
    "\n"
   ]
  },
  {
   "cell_type": "markdown",
   "metadata": {},
   "source": [
    "\n",
    "### Important Note\n",
    ">Delete the **data/** folder and the downloaded tar file, before you submit your code. The current workspace cannot save the files beyond 1GB of space in total. \n",
    "\n",
    "\n",
    "### Import the Packages"
   ]
  },
  {
   "cell_type": "code",
   "execution_count": 1,
   "metadata": {},
   "outputs": [],
   "source": [
    "# import libraries here; add more as necessary\n",
    "import pandas as pd\n",
    "import seaborn as sns\n",
    "import numpy as np\n",
    "import matplotlib.pyplot as plt\n",
    "# magic word for producing visualizations in notebook\n",
    "%matplotlib inline\n",
    "from sklearn.feature_selection import VarianceThreshold\n",
    "from sklearn.cluster import KMeans\n",
    "from sklearn.decomposition import PCA\n",
    "from sklearn.preprocessing import StandardScaler\n",
    "from sklearn.ensemble import RandomForestClassifier\n",
    "from sklearn.cluster import KMeans\n",
    "from sklearn.preprocessing import StandardScaler\n",
    "from imblearn.over_sampling import SMOTE\n",
    "from imblearn.pipeline import Pipeline as ImbPipeline  \n",
    "from custom_cleaning_transformer import DataSetCleaner\n",
    "import pickle\n",
    "from xgboost import XGBClassifier\n",
    "from sklearn.model_selection import GridSearchCV\n",
    "from sklearn.metrics import roc_auc_score, make_scorer\n",
    "from sklearn.ensemble import AdaBoostClassifier\n",
    "from sklearn.tree import DecisionTreeClassifier\n",
    "from sklearn.utils.class_weight import compute_sample_weight"
   ]
  },
  {
   "cell_type": "markdown",
   "metadata": {},
   "source": [
    "## Part 0: Get to Know the Data\n",
    "\n",
    "There are four data files associated with this project:\n",
    "\n",
    "- `Udacity_AZDIAS_052018.csv`: Demographics data for the general population of Germany; 891 211 persons (rows) x 366 features (columns).\n",
    "- `Udacity_CUSTOMERS_052018.csv`: Demographics data for customers of a mail-order company; 191 652 persons (rows) x 369 features (columns).\n",
    "- `Udacity_MAILOUT_052018_TRAIN.csv`: Demographics data for individuals who were targets of a marketing campaign; 42 982 persons (rows) x 367 (columns).\n",
    "- `Udacity_MAILOUT_052018_TEST.csv`: Demographics data for individuals who were targets of a marketing campaign; 42 833 persons (rows) x 366 (columns).\n",
    "\n",
    "Each row of the demographics files represents a single person, but also includes information outside of individuals, including information about their household, building, and neighborhood. Use the information from the first two files to figure out how customers (\"CUSTOMERS\") are similar to or differ from the general population at large (\"AZDIAS\"), then use your analysis to make predictions on the other two files (\"MAILOUT\"), predicting which recipients are most likely to become a customer for the mail-order company.\n",
    "\n",
    "The \"CUSTOMERS\" file contains three extra columns ('CUSTOMER_GROUP', 'ONLINE_PURCHASE', and 'PRODUCT_GROUP'), which provide broad information about the customers depicted in the file. The original \"MAILOUT\" file included one additional column, \"RESPONSE\", which indicated whether or not each recipient became a customer of the company. For the \"TRAIN\" subset, this column has been retained, but in the \"TEST\" subset it has been removed; it is against that withheld column that your final predictions will be assessed in the Kaggle competition.\n",
    "\n",
    "Otherwise, all of the remaining columns are the same between the three data files. For more information about the columns depicted in the files, you can refer to two Excel spreadsheets provided in the workspace. [One of them](./DIAS Information Levels - Attributes 2017.xlsx) is a top-level list of attributes and descriptions, organized by informational category. [The other](./DIAS Attributes - Values 2017.xlsx) is a detailed mapping of data values for each feature in alphabetical order.\n",
    "\n",
    "In the below cell, we've provided some initial code to load in the first two datasets. Note for all of the `.csv` data files in this project that they're semicolon (`;`) delimited, so an additional argument in the [`read_csv()`](https://pandas.pydata.org/pandas-docs/stable/generated/pandas.read_csv.html) call has been included to read in the data properly. Also, considering the size of the datasets, it may take some time for them to load completely.\n",
    "\n",
    "You'll notice when the data is loaded in that a warning message will immediately pop up. Before you really start digging into the modeling and analysis, you're going to need to perform some cleaning. Take some time to browse the structure of the data and look over the informational spreadsheets to understand the data values. Make some decisions on which features to keep, which features to drop, and if any revisions need to be made on data formats. It'll be a good idea to create a function with pre-processing steps, since you'll need to clean all of the datasets before you work with them."
   ]
  },
  {
   "cell_type": "markdown",
   "metadata": {},
   "source": [
    ">Note: If you experience \"Kernel died\" issue while running the codeblock below, then load less number of rows from the .csv files."
   ]
  },
  {
   "cell_type": "code",
   "execution_count": 2,
   "metadata": {},
   "outputs": [],
   "source": [
    "# load in the data\n",
    "# column 18 and 19 had mixed datatypes so it is safe to bring them in as strings\n",
    "dtype_dict = {'CAMEO_DEUG_2015': str, 'CAMEO_INTL_2015': str}\n",
    "azdias_original = pd.read_csv('data/Udacity_AZDIAS_052018.csv', sep=';',\n",
    "                              dtype=dtype_dict)\n",
    "customers_original = pd.read_csv('data/Udacity_CUSTOMERS_052018.csv', sep=';',\n",
    "                                 dtype=dtype_dict)\n",
    "# import the wlb worksheet with created for converting CAMEO_DEU_2015 to float\n",
    "df_wlb = pd.read_excel('work_life_balance.xlsx', header=1)\n",
    "# create a dictionary from the wlb dataframe\n",
    "wlb_dict = dict(zip(df_wlb['wlb_code'], df_wlb['category_value']))"
   ]
  },
  {
   "cell_type": "code",
   "execution_count": 3,
   "metadata": {},
   "outputs": [
    {
     "data": {
      "text/html": [
       "<div>\n",
       "<style scoped>\n",
       "    .dataframe tbody tr th:only-of-type {\n",
       "        vertical-align: middle;\n",
       "    }\n",
       "\n",
       "    .dataframe tbody tr th {\n",
       "        vertical-align: top;\n",
       "    }\n",
       "\n",
       "    .dataframe thead th {\n",
       "        text-align: right;\n",
       "    }\n",
       "</style>\n",
       "<table border=\"1\" class=\"dataframe\">\n",
       "  <thead>\n",
       "    <tr style=\"text-align: right;\">\n",
       "      <th></th>\n",
       "      <th>LNR</th>\n",
       "      <th>AGER_TYP</th>\n",
       "      <th>AKT_DAT_KL</th>\n",
       "      <th>ALTER_HH</th>\n",
       "      <th>ALTER_KIND1</th>\n",
       "      <th>ALTER_KIND2</th>\n",
       "      <th>ALTER_KIND3</th>\n",
       "      <th>ALTER_KIND4</th>\n",
       "      <th>ALTERSKATEGORIE_FEIN</th>\n",
       "      <th>ANZ_HAUSHALTE_AKTIV</th>\n",
       "      <th>...</th>\n",
       "      <th>VHN</th>\n",
       "      <th>VK_DHT4A</th>\n",
       "      <th>VK_DISTANZ</th>\n",
       "      <th>VK_ZG11</th>\n",
       "      <th>W_KEIT_KIND_HH</th>\n",
       "      <th>WOHNDAUER_2008</th>\n",
       "      <th>WOHNLAGE</th>\n",
       "      <th>ZABEOTYP</th>\n",
       "      <th>ANREDE_KZ</th>\n",
       "      <th>ALTERSKATEGORIE_GROB</th>\n",
       "    </tr>\n",
       "  </thead>\n",
       "  <tbody>\n",
       "    <tr>\n",
       "      <th>886265</th>\n",
       "      <td>374790</td>\n",
       "      <td>-1</td>\n",
       "      <td>NaN</td>\n",
       "      <td>NaN</td>\n",
       "      <td>NaN</td>\n",
       "      <td>NaN</td>\n",
       "      <td>NaN</td>\n",
       "      <td>NaN</td>\n",
       "      <td>NaN</td>\n",
       "      <td>NaN</td>\n",
       "      <td>...</td>\n",
       "      <td>NaN</td>\n",
       "      <td>NaN</td>\n",
       "      <td>NaN</td>\n",
       "      <td>NaN</td>\n",
       "      <td>NaN</td>\n",
       "      <td>NaN</td>\n",
       "      <td>NaN</td>\n",
       "      <td>3</td>\n",
       "      <td>2</td>\n",
       "      <td>1</td>\n",
       "    </tr>\n",
       "    <tr>\n",
       "      <th>836971</th>\n",
       "      <td>397555</td>\n",
       "      <td>-1</td>\n",
       "      <td>1.0</td>\n",
       "      <td>14.0</td>\n",
       "      <td>NaN</td>\n",
       "      <td>NaN</td>\n",
       "      <td>NaN</td>\n",
       "      <td>NaN</td>\n",
       "      <td>14.0</td>\n",
       "      <td>5.0</td>\n",
       "      <td>...</td>\n",
       "      <td>1.0</td>\n",
       "      <td>10.0</td>\n",
       "      <td>13.0</td>\n",
       "      <td>10.0</td>\n",
       "      <td>3.0</td>\n",
       "      <td>9.0</td>\n",
       "      <td>3.0</td>\n",
       "      <td>3</td>\n",
       "      <td>2</td>\n",
       "      <td>4</td>\n",
       "    </tr>\n",
       "    <tr>\n",
       "      <th>352306</th>\n",
       "      <td>917115</td>\n",
       "      <td>-1</td>\n",
       "      <td>6.0</td>\n",
       "      <td>17.0</td>\n",
       "      <td>NaN</td>\n",
       "      <td>NaN</td>\n",
       "      <td>NaN</td>\n",
       "      <td>NaN</td>\n",
       "      <td>17.0</td>\n",
       "      <td>6.0</td>\n",
       "      <td>...</td>\n",
       "      <td>4.0</td>\n",
       "      <td>10.0</td>\n",
       "      <td>6.0</td>\n",
       "      <td>3.0</td>\n",
       "      <td>4.0</td>\n",
       "      <td>7.0</td>\n",
       "      <td>7.0</td>\n",
       "      <td>5</td>\n",
       "      <td>2</td>\n",
       "      <td>4</td>\n",
       "    </tr>\n",
       "    <tr>\n",
       "      <th>765097</th>\n",
       "      <td>473787</td>\n",
       "      <td>-1</td>\n",
       "      <td>NaN</td>\n",
       "      <td>NaN</td>\n",
       "      <td>NaN</td>\n",
       "      <td>NaN</td>\n",
       "      <td>NaN</td>\n",
       "      <td>NaN</td>\n",
       "      <td>NaN</td>\n",
       "      <td>NaN</td>\n",
       "      <td>...</td>\n",
       "      <td>NaN</td>\n",
       "      <td>NaN</td>\n",
       "      <td>NaN</td>\n",
       "      <td>NaN</td>\n",
       "      <td>NaN</td>\n",
       "      <td>NaN</td>\n",
       "      <td>NaN</td>\n",
       "      <td>3</td>\n",
       "      <td>2</td>\n",
       "      <td>3</td>\n",
       "    </tr>\n",
       "    <tr>\n",
       "      <th>564308</th>\n",
       "      <td>755149</td>\n",
       "      <td>-1</td>\n",
       "      <td>1.0</td>\n",
       "      <td>15.0</td>\n",
       "      <td>NaN</td>\n",
       "      <td>NaN</td>\n",
       "      <td>NaN</td>\n",
       "      <td>NaN</td>\n",
       "      <td>15.0</td>\n",
       "      <td>14.0</td>\n",
       "      <td>...</td>\n",
       "      <td>3.0</td>\n",
       "      <td>5.0</td>\n",
       "      <td>8.0</td>\n",
       "      <td>7.0</td>\n",
       "      <td>4.0</td>\n",
       "      <td>7.0</td>\n",
       "      <td>1.0</td>\n",
       "      <td>6</td>\n",
       "      <td>2</td>\n",
       "      <td>3</td>\n",
       "    </tr>\n",
       "    <tr>\n",
       "      <th>185669</th>\n",
       "      <td>1012229</td>\n",
       "      <td>1</td>\n",
       "      <td>1.0</td>\n",
       "      <td>0.0</td>\n",
       "      <td>NaN</td>\n",
       "      <td>NaN</td>\n",
       "      <td>NaN</td>\n",
       "      <td>NaN</td>\n",
       "      <td>13.0</td>\n",
       "      <td>1.0</td>\n",
       "      <td>...</td>\n",
       "      <td>2.0</td>\n",
       "      <td>2.0</td>\n",
       "      <td>4.0</td>\n",
       "      <td>4.0</td>\n",
       "      <td>5.0</td>\n",
       "      <td>9.0</td>\n",
       "      <td>7.0</td>\n",
       "      <td>1</td>\n",
       "      <td>1</td>\n",
       "      <td>3</td>\n",
       "    </tr>\n",
       "    <tr>\n",
       "      <th>855788</th>\n",
       "      <td>455020</td>\n",
       "      <td>-1</td>\n",
       "      <td>9.0</td>\n",
       "      <td>0.0</td>\n",
       "      <td>NaN</td>\n",
       "      <td>NaN</td>\n",
       "      <td>NaN</td>\n",
       "      <td>NaN</td>\n",
       "      <td>NaN</td>\n",
       "      <td>4.0</td>\n",
       "      <td>...</td>\n",
       "      <td>2.0</td>\n",
       "      <td>10.0</td>\n",
       "      <td>11.0</td>\n",
       "      <td>8.0</td>\n",
       "      <td>4.0</td>\n",
       "      <td>9.0</td>\n",
       "      <td>7.0</td>\n",
       "      <td>3</td>\n",
       "      <td>1</td>\n",
       "      <td>3</td>\n",
       "    </tr>\n",
       "    <tr>\n",
       "      <th>3423</th>\n",
       "      <td>357027</td>\n",
       "      <td>1</td>\n",
       "      <td>1.0</td>\n",
       "      <td>17.0</td>\n",
       "      <td>NaN</td>\n",
       "      <td>NaN</td>\n",
       "      <td>NaN</td>\n",
       "      <td>NaN</td>\n",
       "      <td>11.0</td>\n",
       "      <td>6.0</td>\n",
       "      <td>...</td>\n",
       "      <td>1.0</td>\n",
       "      <td>2.0</td>\n",
       "      <td>4.0</td>\n",
       "      <td>2.0</td>\n",
       "      <td>NaN</td>\n",
       "      <td>9.0</td>\n",
       "      <td>4.0</td>\n",
       "      <td>3</td>\n",
       "      <td>1</td>\n",
       "      <td>4</td>\n",
       "    </tr>\n",
       "    <tr>\n",
       "      <th>589240</th>\n",
       "      <td>420232</td>\n",
       "      <td>-1</td>\n",
       "      <td>9.0</td>\n",
       "      <td>0.0</td>\n",
       "      <td>NaN</td>\n",
       "      <td>NaN</td>\n",
       "      <td>NaN</td>\n",
       "      <td>NaN</td>\n",
       "      <td>NaN</td>\n",
       "      <td>1.0</td>\n",
       "      <td>...</td>\n",
       "      <td>NaN</td>\n",
       "      <td>9.0</td>\n",
       "      <td>9.0</td>\n",
       "      <td>6.0</td>\n",
       "      <td>6.0</td>\n",
       "      <td>9.0</td>\n",
       "      <td>8.0</td>\n",
       "      <td>2</td>\n",
       "      <td>1</td>\n",
       "      <td>4</td>\n",
       "    </tr>\n",
       "    <tr>\n",
       "      <th>472736</th>\n",
       "      <td>1064018</td>\n",
       "      <td>-1</td>\n",
       "      <td>1.0</td>\n",
       "      <td>21.0</td>\n",
       "      <td>NaN</td>\n",
       "      <td>NaN</td>\n",
       "      <td>NaN</td>\n",
       "      <td>NaN</td>\n",
       "      <td>21.0</td>\n",
       "      <td>1.0</td>\n",
       "      <td>...</td>\n",
       "      <td>1.0</td>\n",
       "      <td>2.0</td>\n",
       "      <td>3.0</td>\n",
       "      <td>5.0</td>\n",
       "      <td>3.0</td>\n",
       "      <td>9.0</td>\n",
       "      <td>2.0</td>\n",
       "      <td>2</td>\n",
       "      <td>2</td>\n",
       "      <td>2</td>\n",
       "    </tr>\n",
       "  </tbody>\n",
       "</table>\n",
       "<p>10 rows × 366 columns</p>\n",
       "</div>"
      ],
      "text/plain": [
       "            LNR  AGER_TYP  AKT_DAT_KL  ALTER_HH  ALTER_KIND1  ALTER_KIND2  \\\n",
       "886265   374790        -1         NaN       NaN          NaN          NaN   \n",
       "836971   397555        -1         1.0      14.0          NaN          NaN   \n",
       "352306   917115        -1         6.0      17.0          NaN          NaN   \n",
       "765097   473787        -1         NaN       NaN          NaN          NaN   \n",
       "564308   755149        -1         1.0      15.0          NaN          NaN   \n",
       "185669  1012229         1         1.0       0.0          NaN          NaN   \n",
       "855788   455020        -1         9.0       0.0          NaN          NaN   \n",
       "3423     357027         1         1.0      17.0          NaN          NaN   \n",
       "589240   420232        -1         9.0       0.0          NaN          NaN   \n",
       "472736  1064018        -1         1.0      21.0          NaN          NaN   \n",
       "\n",
       "        ALTER_KIND3  ALTER_KIND4  ALTERSKATEGORIE_FEIN  ANZ_HAUSHALTE_AKTIV  \\\n",
       "886265          NaN          NaN                   NaN                  NaN   \n",
       "836971          NaN          NaN                  14.0                  5.0   \n",
       "352306          NaN          NaN                  17.0                  6.0   \n",
       "765097          NaN          NaN                   NaN                  NaN   \n",
       "564308          NaN          NaN                  15.0                 14.0   \n",
       "185669          NaN          NaN                  13.0                  1.0   \n",
       "855788          NaN          NaN                   NaN                  4.0   \n",
       "3423            NaN          NaN                  11.0                  6.0   \n",
       "589240          NaN          NaN                   NaN                  1.0   \n",
       "472736          NaN          NaN                  21.0                  1.0   \n",
       "\n",
       "        ...  VHN  VK_DHT4A  VK_DISTANZ  VK_ZG11  W_KEIT_KIND_HH  \\\n",
       "886265  ...  NaN       NaN         NaN      NaN             NaN   \n",
       "836971  ...  1.0      10.0        13.0     10.0             3.0   \n",
       "352306  ...  4.0      10.0         6.0      3.0             4.0   \n",
       "765097  ...  NaN       NaN         NaN      NaN             NaN   \n",
       "564308  ...  3.0       5.0         8.0      7.0             4.0   \n",
       "185669  ...  2.0       2.0         4.0      4.0             5.0   \n",
       "855788  ...  2.0      10.0        11.0      8.0             4.0   \n",
       "3423    ...  1.0       2.0         4.0      2.0             NaN   \n",
       "589240  ...  NaN       9.0         9.0      6.0             6.0   \n",
       "472736  ...  1.0       2.0         3.0      5.0             3.0   \n",
       "\n",
       "        WOHNDAUER_2008  WOHNLAGE ZABEOTYP ANREDE_KZ ALTERSKATEGORIE_GROB  \n",
       "886265             NaN       NaN        3         2                    1  \n",
       "836971             9.0       3.0        3         2                    4  \n",
       "352306             7.0       7.0        5         2                    4  \n",
       "765097             NaN       NaN        3         2                    3  \n",
       "564308             7.0       1.0        6         2                    3  \n",
       "185669             9.0       7.0        1         1                    3  \n",
       "855788             9.0       7.0        3         1                    3  \n",
       "3423               9.0       4.0        3         1                    4  \n",
       "589240             9.0       8.0        2         1                    4  \n",
       "472736             9.0       2.0        2         2                    2  \n",
       "\n",
       "[10 rows x 366 columns]"
      ]
     },
     "execution_count": 3,
     "metadata": {},
     "output_type": "execute_result"
    }
   ],
   "source": [
    "# explore azdias dataset\n",
    "azdias_original.sample(10)"
   ]
  },
  {
   "cell_type": "code",
   "execution_count": 4,
   "metadata": {},
   "outputs": [
    {
     "data": {
      "text/html": [
       "<div>\n",
       "<style scoped>\n",
       "    .dataframe tbody tr th:only-of-type {\n",
       "        vertical-align: middle;\n",
       "    }\n",
       "\n",
       "    .dataframe tbody tr th {\n",
       "        vertical-align: top;\n",
       "    }\n",
       "\n",
       "    .dataframe thead th {\n",
       "        text-align: right;\n",
       "    }\n",
       "</style>\n",
       "<table border=\"1\" class=\"dataframe\">\n",
       "  <thead>\n",
       "    <tr style=\"text-align: right;\">\n",
       "      <th></th>\n",
       "      <th>LNR</th>\n",
       "      <th>AGER_TYP</th>\n",
       "      <th>AKT_DAT_KL</th>\n",
       "      <th>ALTER_HH</th>\n",
       "      <th>ALTER_KIND1</th>\n",
       "      <th>ALTER_KIND2</th>\n",
       "      <th>ALTER_KIND3</th>\n",
       "      <th>ALTER_KIND4</th>\n",
       "      <th>ALTERSKATEGORIE_FEIN</th>\n",
       "      <th>ANZ_HAUSHALTE_AKTIV</th>\n",
       "      <th>...</th>\n",
       "      <th>VK_ZG11</th>\n",
       "      <th>W_KEIT_KIND_HH</th>\n",
       "      <th>WOHNDAUER_2008</th>\n",
       "      <th>WOHNLAGE</th>\n",
       "      <th>ZABEOTYP</th>\n",
       "      <th>PRODUCT_GROUP</th>\n",
       "      <th>CUSTOMER_GROUP</th>\n",
       "      <th>ONLINE_PURCHASE</th>\n",
       "      <th>ANREDE_KZ</th>\n",
       "      <th>ALTERSKATEGORIE_GROB</th>\n",
       "    </tr>\n",
       "  </thead>\n",
       "  <tbody>\n",
       "    <tr>\n",
       "      <th>38203</th>\n",
       "      <td>156649</td>\n",
       "      <td>-1</td>\n",
       "      <td>9.0</td>\n",
       "      <td>0.0</td>\n",
       "      <td>NaN</td>\n",
       "      <td>NaN</td>\n",
       "      <td>NaN</td>\n",
       "      <td>NaN</td>\n",
       "      <td>NaN</td>\n",
       "      <td>3.0</td>\n",
       "      <td>...</td>\n",
       "      <td>8.0</td>\n",
       "      <td>5.0</td>\n",
       "      <td>8.0</td>\n",
       "      <td>5.0</td>\n",
       "      <td>4</td>\n",
       "      <td>COSMETIC_AND_FOOD</td>\n",
       "      <td>MULTI_BUYER</td>\n",
       "      <td>1</td>\n",
       "      <td>1</td>\n",
       "      <td>3</td>\n",
       "    </tr>\n",
       "    <tr>\n",
       "      <th>191634</th>\n",
       "      <td>55811</td>\n",
       "      <td>2</td>\n",
       "      <td>1.0</td>\n",
       "      <td>18.0</td>\n",
       "      <td>NaN</td>\n",
       "      <td>NaN</td>\n",
       "      <td>NaN</td>\n",
       "      <td>NaN</td>\n",
       "      <td>12.0</td>\n",
       "      <td>2.0</td>\n",
       "      <td>...</td>\n",
       "      <td>1.0</td>\n",
       "      <td>2.0</td>\n",
       "      <td>9.0</td>\n",
       "      <td>7.0</td>\n",
       "      <td>3</td>\n",
       "      <td>COSMETIC_AND_FOOD</td>\n",
       "      <td>MULTI_BUYER</td>\n",
       "      <td>1</td>\n",
       "      <td>1</td>\n",
       "      <td>3</td>\n",
       "    </tr>\n",
       "    <tr>\n",
       "      <th>31136</th>\n",
       "      <td>19237</td>\n",
       "      <td>2</td>\n",
       "      <td>1.0</td>\n",
       "      <td>16.0</td>\n",
       "      <td>NaN</td>\n",
       "      <td>NaN</td>\n",
       "      <td>NaN</td>\n",
       "      <td>NaN</td>\n",
       "      <td>10.0</td>\n",
       "      <td>1.0</td>\n",
       "      <td>...</td>\n",
       "      <td>2.0</td>\n",
       "      <td>6.0</td>\n",
       "      <td>9.0</td>\n",
       "      <td>7.0</td>\n",
       "      <td>1</td>\n",
       "      <td>COSMETIC_AND_FOOD</td>\n",
       "      <td>MULTI_BUYER</td>\n",
       "      <td>0</td>\n",
       "      <td>1</td>\n",
       "      <td>4</td>\n",
       "    </tr>\n",
       "    <tr>\n",
       "      <th>25205</th>\n",
       "      <td>91642</td>\n",
       "      <td>2</td>\n",
       "      <td>9.0</td>\n",
       "      <td>0.0</td>\n",
       "      <td>NaN</td>\n",
       "      <td>NaN</td>\n",
       "      <td>NaN</td>\n",
       "      <td>NaN</td>\n",
       "      <td>5.0</td>\n",
       "      <td>3.0</td>\n",
       "      <td>...</td>\n",
       "      <td>1.0</td>\n",
       "      <td>6.0</td>\n",
       "      <td>9.0</td>\n",
       "      <td>1.0</td>\n",
       "      <td>3</td>\n",
       "      <td>COSMETIC_AND_FOOD</td>\n",
       "      <td>MULTI_BUYER</td>\n",
       "      <td>0</td>\n",
       "      <td>2</td>\n",
       "      <td>4</td>\n",
       "    </tr>\n",
       "    <tr>\n",
       "      <th>77572</th>\n",
       "      <td>22414</td>\n",
       "      <td>3</td>\n",
       "      <td>1.0</td>\n",
       "      <td>0.0</td>\n",
       "      <td>NaN</td>\n",
       "      <td>NaN</td>\n",
       "      <td>NaN</td>\n",
       "      <td>NaN</td>\n",
       "      <td>7.0</td>\n",
       "      <td>0.0</td>\n",
       "      <td>...</td>\n",
       "      <td>3.0</td>\n",
       "      <td>NaN</td>\n",
       "      <td>9.0</td>\n",
       "      <td>2.0</td>\n",
       "      <td>1</td>\n",
       "      <td>COSMETIC_AND_FOOD</td>\n",
       "      <td>MULTI_BUYER</td>\n",
       "      <td>0</td>\n",
       "      <td>1</td>\n",
       "      <td>1</td>\n",
       "    </tr>\n",
       "    <tr>\n",
       "      <th>173226</th>\n",
       "      <td>18204</td>\n",
       "      <td>2</td>\n",
       "      <td>1.0</td>\n",
       "      <td>10.0</td>\n",
       "      <td>NaN</td>\n",
       "      <td>NaN</td>\n",
       "      <td>NaN</td>\n",
       "      <td>NaN</td>\n",
       "      <td>9.0</td>\n",
       "      <td>1.0</td>\n",
       "      <td>...</td>\n",
       "      <td>1.0</td>\n",
       "      <td>6.0</td>\n",
       "      <td>9.0</td>\n",
       "      <td>7.0</td>\n",
       "      <td>3</td>\n",
       "      <td>FOOD</td>\n",
       "      <td>MULTI_BUYER</td>\n",
       "      <td>0</td>\n",
       "      <td>1</td>\n",
       "      <td>3</td>\n",
       "    </tr>\n",
       "    <tr>\n",
       "      <th>27393</th>\n",
       "      <td>108369</td>\n",
       "      <td>-1</td>\n",
       "      <td>NaN</td>\n",
       "      <td>NaN</td>\n",
       "      <td>NaN</td>\n",
       "      <td>NaN</td>\n",
       "      <td>NaN</td>\n",
       "      <td>NaN</td>\n",
       "      <td>NaN</td>\n",
       "      <td>NaN</td>\n",
       "      <td>...</td>\n",
       "      <td>NaN</td>\n",
       "      <td>NaN</td>\n",
       "      <td>NaN</td>\n",
       "      <td>NaN</td>\n",
       "      <td>3</td>\n",
       "      <td>COSMETIC_AND_FOOD</td>\n",
       "      <td>MULTI_BUYER</td>\n",
       "      <td>0</td>\n",
       "      <td>2</td>\n",
       "      <td>1</td>\n",
       "    </tr>\n",
       "    <tr>\n",
       "      <th>99875</th>\n",
       "      <td>146801</td>\n",
       "      <td>-1</td>\n",
       "      <td>1.0</td>\n",
       "      <td>0.0</td>\n",
       "      <td>NaN</td>\n",
       "      <td>NaN</td>\n",
       "      <td>NaN</td>\n",
       "      <td>NaN</td>\n",
       "      <td>18.0</td>\n",
       "      <td>1.0</td>\n",
       "      <td>...</td>\n",
       "      <td>3.0</td>\n",
       "      <td>2.0</td>\n",
       "      <td>9.0</td>\n",
       "      <td>2.0</td>\n",
       "      <td>1</td>\n",
       "      <td>COSMETIC_AND_FOOD</td>\n",
       "      <td>MULTI_BUYER</td>\n",
       "      <td>0</td>\n",
       "      <td>1</td>\n",
       "      <td>2</td>\n",
       "    </tr>\n",
       "    <tr>\n",
       "      <th>187122</th>\n",
       "      <td>135782</td>\n",
       "      <td>-1</td>\n",
       "      <td>1.0</td>\n",
       "      <td>8.0</td>\n",
       "      <td>NaN</td>\n",
       "      <td>NaN</td>\n",
       "      <td>NaN</td>\n",
       "      <td>NaN</td>\n",
       "      <td>0.0</td>\n",
       "      <td>1.0</td>\n",
       "      <td>...</td>\n",
       "      <td>6.0</td>\n",
       "      <td>6.0</td>\n",
       "      <td>9.0</td>\n",
       "      <td>7.0</td>\n",
       "      <td>3</td>\n",
       "      <td>FOOD</td>\n",
       "      <td>MULTI_BUYER</td>\n",
       "      <td>0</td>\n",
       "      <td>2</td>\n",
       "      <td>4</td>\n",
       "    </tr>\n",
       "    <tr>\n",
       "      <th>141865</th>\n",
       "      <td>11875</td>\n",
       "      <td>-1</td>\n",
       "      <td>NaN</td>\n",
       "      <td>NaN</td>\n",
       "      <td>NaN</td>\n",
       "      <td>NaN</td>\n",
       "      <td>NaN</td>\n",
       "      <td>NaN</td>\n",
       "      <td>NaN</td>\n",
       "      <td>NaN</td>\n",
       "      <td>...</td>\n",
       "      <td>NaN</td>\n",
       "      <td>NaN</td>\n",
       "      <td>NaN</td>\n",
       "      <td>NaN</td>\n",
       "      <td>3</td>\n",
       "      <td>FOOD</td>\n",
       "      <td>MULTI_BUYER</td>\n",
       "      <td>1</td>\n",
       "      <td>1</td>\n",
       "      <td>3</td>\n",
       "    </tr>\n",
       "  </tbody>\n",
       "</table>\n",
       "<p>10 rows × 369 columns</p>\n",
       "</div>"
      ],
      "text/plain": [
       "           LNR  AGER_TYP  AKT_DAT_KL  ALTER_HH  ALTER_KIND1  ALTER_KIND2  \\\n",
       "38203   156649        -1         9.0       0.0          NaN          NaN   \n",
       "191634   55811         2         1.0      18.0          NaN          NaN   \n",
       "31136    19237         2         1.0      16.0          NaN          NaN   \n",
       "25205    91642         2         9.0       0.0          NaN          NaN   \n",
       "77572    22414         3         1.0       0.0          NaN          NaN   \n",
       "173226   18204         2         1.0      10.0          NaN          NaN   \n",
       "27393   108369        -1         NaN       NaN          NaN          NaN   \n",
       "99875   146801        -1         1.0       0.0          NaN          NaN   \n",
       "187122  135782        -1         1.0       8.0          NaN          NaN   \n",
       "141865   11875        -1         NaN       NaN          NaN          NaN   \n",
       "\n",
       "        ALTER_KIND3  ALTER_KIND4  ALTERSKATEGORIE_FEIN  ANZ_HAUSHALTE_AKTIV  \\\n",
       "38203           NaN          NaN                   NaN                  3.0   \n",
       "191634          NaN          NaN                  12.0                  2.0   \n",
       "31136           NaN          NaN                  10.0                  1.0   \n",
       "25205           NaN          NaN                   5.0                  3.0   \n",
       "77572           NaN          NaN                   7.0                  0.0   \n",
       "173226          NaN          NaN                   9.0                  1.0   \n",
       "27393           NaN          NaN                   NaN                  NaN   \n",
       "99875           NaN          NaN                  18.0                  1.0   \n",
       "187122          NaN          NaN                   0.0                  1.0   \n",
       "141865          NaN          NaN                   NaN                  NaN   \n",
       "\n",
       "        ...  VK_ZG11  W_KEIT_KIND_HH  WOHNDAUER_2008  WOHNLAGE  ZABEOTYP  \\\n",
       "38203   ...      8.0             5.0             8.0       5.0         4   \n",
       "191634  ...      1.0             2.0             9.0       7.0         3   \n",
       "31136   ...      2.0             6.0             9.0       7.0         1   \n",
       "25205   ...      1.0             6.0             9.0       1.0         3   \n",
       "77572   ...      3.0             NaN             9.0       2.0         1   \n",
       "173226  ...      1.0             6.0             9.0       7.0         3   \n",
       "27393   ...      NaN             NaN             NaN       NaN         3   \n",
       "99875   ...      3.0             2.0             9.0       2.0         1   \n",
       "187122  ...      6.0             6.0             9.0       7.0         3   \n",
       "141865  ...      NaN             NaN             NaN       NaN         3   \n",
       "\n",
       "            PRODUCT_GROUP  CUSTOMER_GROUP ONLINE_PURCHASE ANREDE_KZ  \\\n",
       "38203   COSMETIC_AND_FOOD     MULTI_BUYER               1         1   \n",
       "191634  COSMETIC_AND_FOOD     MULTI_BUYER               1         1   \n",
       "31136   COSMETIC_AND_FOOD     MULTI_BUYER               0         1   \n",
       "25205   COSMETIC_AND_FOOD     MULTI_BUYER               0         2   \n",
       "77572   COSMETIC_AND_FOOD     MULTI_BUYER               0         1   \n",
       "173226               FOOD     MULTI_BUYER               0         1   \n",
       "27393   COSMETIC_AND_FOOD     MULTI_BUYER               0         2   \n",
       "99875   COSMETIC_AND_FOOD     MULTI_BUYER               0         1   \n",
       "187122               FOOD     MULTI_BUYER               0         2   \n",
       "141865               FOOD     MULTI_BUYER               1         1   \n",
       "\n",
       "       ALTERSKATEGORIE_GROB  \n",
       "38203                     3  \n",
       "191634                    3  \n",
       "31136                     4  \n",
       "25205                     4  \n",
       "77572                     1  \n",
       "173226                    3  \n",
       "27393                     1  \n",
       "99875                     2  \n",
       "187122                    4  \n",
       "141865                    3  \n",
       "\n",
       "[10 rows x 369 columns]"
      ]
     },
     "execution_count": 4,
     "metadata": {},
     "output_type": "execute_result"
    }
   ],
   "source": [
    "# explore customers dataset\n",
    "customers_original.sample(10)"
   ]
  },
  {
   "cell_type": "code",
   "execution_count": 5,
   "metadata": {},
   "outputs": [
    {
     "data": {
      "text/plain": [
       "((891221, 366), (191652, 369))"
      ]
     },
     "execution_count": 5,
     "metadata": {},
     "output_type": "execute_result"
    }
   ],
   "source": [
    "# ensure data completeness\n",
    "azdias_original.shape, customers_original.shape"
   ]
  },
  {
   "cell_type": "markdown",
   "metadata": {},
   "source": [
    "### Data Cleaning\n",
    "As much as possible we want to make our data numeric instead of strings. In this section, we will clean all string columns, \n",
    "replacing them with numeric values where possible. We will use the functions belows to help with cleaning our data. We have explained the steps here:\n",
    "- Remove columns with more that 50% NAN values\n",
    "- Generate IDs\n",
    "- Remove Duplicates\n",
    "- Convert string categorical columns to floats"
   ]
  },
  {
   "cell_type": "markdown",
   "metadata": {},
   "source": [
    "##### List all string columns\n",
    "To be able to successfully extract relevant features, we need to have our data as numeric. \n",
    "The column names below have string values. We will convert columns with categorical values to numeric first while \n",
    "we inspect other non categorical columns\n",
    "- CAMEO_DEU_2015: Work-Life-Balance (Categorical)\n",
    "- CAMEO_DEUG_2015:Income Group (Categorical)\n",
    "- OST_WEST_KZ: GDR/FRG (Categorical)\n",
    "- CAMEO_INTL_2015\n",
    "- D19_LETZTER_KAUF_BRANCHE\n",
    "- EINGEFUEGT_AM\n",
    "- PRODUCT_GROUP\n",
    "- CUSTOMER_GROUP\n",
    "\n",
    "We will write a function that takes a dataframe, a column name and a dictionary. The function will return the dataframe with the specified column value as float.\n",
    "The work-Life-Balance column has several categories, we are going to use a csv file to create a dictionary for that while we create others by hand"
   ]
  },
  {
   "cell_type": "markdown",
   "metadata": {},
   "source": [
    "##### Generate IDs for all rows\n",
    "It does not appear that the data has an ID to uniquely identify rows, as a result, we will generate IDs for our records. \n",
    "This is solely for us to be able to regenerate our original records from segmented general poupulation data.\n",
    "We will generate unique IDs for azdias dataframe. We chose 0s for customers IDs since the ids are there just to match the columns on azdias dataframe."
   ]
  },
  {
   "cell_type": "code",
   "execution_count": 6,
   "metadata": {},
   "outputs": [],
   "source": [
    "# we need to generate Ids while the data is still in its original form.\n",
    "# That way we can trace back our segmented data\n",
    "azdias_original['row_number'] = azdias_original.index\n",
    "customers_original['row_number'] = 0"
   ]
  },
  {
   "cell_type": "code",
   "execution_count": 7,
   "metadata": {},
   "outputs": [
    {
     "data": {
      "text/plain": [
       "0              0\n",
       "1              1\n",
       "2              2\n",
       "3              3\n",
       "4              4\n",
       "           ...  \n",
       "891216    891216\n",
       "891217    891217\n",
       "891218    891218\n",
       "891219    891219\n",
       "891220    891220\n",
       "Name: row_number, Length: 891221, dtype: int64"
      ]
     },
     "execution_count": 7,
     "metadata": {},
     "output_type": "execute_result"
    }
   ],
   "source": [
    "azdias_original['row_number']"
   ]
  },
  {
   "cell_type": "code",
   "execution_count": 8,
   "metadata": {},
   "outputs": [
    {
     "data": {
      "text/plain": [
       "(Index(['CAMEO_DEU_2015', 'CAMEO_DEUG_2015', 'CAMEO_INTL_2015',\n",
       "        'D19_LETZTER_KAUF_BRANCHE', 'EINGEFUEGT_AM', 'OST_WEST_KZ',\n",
       "        'PRODUCT_GROUP', 'CUSTOMER_GROUP'],\n",
       "       dtype='object'),\n",
       " Index(['CAMEO_DEU_2015', 'CAMEO_DEUG_2015', 'CAMEO_INTL_2015',\n",
       "        'D19_LETZTER_KAUF_BRANCHE', 'EINGEFUEGT_AM', 'OST_WEST_KZ'],\n",
       "       dtype='object'))"
      ]
     },
     "execution_count": 8,
     "metadata": {},
     "output_type": "execute_result"
    }
   ],
   "source": [
    "# Let us checks our dataframes for any object column. None is expected\n",
    "customers_str = customers_original.select_dtypes(include=object)\n",
    "azdias_str = azdias_original.select_dtypes(include=object)\n",
    "customers_str.columns, azdias_str.columns"
   ]
  },
  {
   "cell_type": "code",
   "execution_count": 9,
   "metadata": {},
   "outputs": [],
   "source": [
    "def display_NAN_distribution(df):\n",
    "    '''\n",
    "    INPUT - df - pandas dataframe with NAN across rows and columns\n",
    "    '''    \n",
    "    nan_percentage_col = df.isna().mean() * 100\n",
    "    nan_percentage_row = df.isna().mean(axis=1) * 100\n",
    "    # Step 2: Count columns that fall into specific NaN percentage categories\n",
    "    bins = [0, 25, 50, 75, 100]  # Define the percentage bins\n",
    "    \n",
    "    nan_groups_cols = pd.cut(nan_percentage_col, bins=bins)  # Group columns based on NaN percentage ranges\n",
    "    nan_group_counts_cols = nan_groups_cols.value_counts().sort_index()\n",
    "    \n",
    "    nan_groups_rows = pd.cut(nan_percentage_row, bins=bins)  # Group columns based on NaN percentage ranges\n",
    "    nan_group_counts_rows = nan_groups_rows.value_counts().sort_index()\n",
    "    \n",
    "    fig, axes = plt.subplots(nrows=1, ncols=2, figsize=(12, 5))\n",
    "    nan_group_counts_cols.plot(kind='bar', color='skyblue', ax = axes[0])\n",
    "    plt.xticks(rotation=45, horizontalalignment=\"center\")\n",
    "    axes[0].set_title('Number of Columns by Percentage of Missing Values', fontsize=10)\n",
    "    axes[0].set_xlabel('Percentage of NaN Values')\n",
    "    axes[0].set_ylabel('Number of Columns')\n",
    "    \n",
    "    nan_group_counts_rows.plot(kind='bar', color='skyblue', ax = axes[1])\n",
    "    plt.xticks(rotation=45, horizontalalignment=\"center\")\n",
    "    axes[1].set_title('Number of Rows by Percentage of Missing Values', fontsize=10)\n",
    "    axes[1].set_xlabel('Percentage of NaN Values')\n",
    "    axes[1].set_ylabel('Number of Rows')\n",
    "    plt.show()"
   ]
  },
  {
   "cell_type": "code",
   "execution_count": 10,
   "metadata": {},
   "outputs": [],
   "source": [
    "def get_columns_with_majority_NAN(df):\n",
    "    missing_percentage = df.isna().mean()\n",
    "    # Select columns where more than 75% of the data is NaN\n",
    "    columns_with_75_percent_nan = missing_percentage[missing_percentage > 0.75].index\n",
    "    return list(columns_with_75_percent_nan)"
   ]
  },
  {
   "cell_type": "code",
   "execution_count": 11,
   "metadata": {},
   "outputs": [],
   "source": [
    "def drop_rows_with_majority_NAN(df):\n",
    "    missing_percentage_per_row = df.isna().mean(axis=1)\n",
    "    # Select rows where more than 75% of the data is NaN\n",
    "    # Drop rows where more than 50% of the data is NaN\n",
    "    df_cleaned = df[missing_percentage_per_row <= 0.50]\n",
    "    return df_cleaned"
   ]
  },
  {
   "cell_type": "code",
   "execution_count": 12,
   "metadata": {},
   "outputs": [],
   "source": [
    "def preprocess_df_column(df, column, nan_value=None, str_to_replace=None,\n",
    "                         replacement_str=None, rpl_dict=None):\n",
    "    \"\"\" \n",
    "        DESC: preprocesses dataframe replacing NAN with appropriate values\n",
    "        INPUT: df - a dataframe to be cleaned\n",
    "               column - a dataframe column to be cleaned\n",
    "               nan_value: a replacement value for NAN values\n",
    "               str_to_replace: a sting to be replace\n",
    "               replacement_str: A replacement string\n",
    "               rpl_dict: A dictionary for replacement\n",
    "        OUTPUT: a clean dataframe\n",
    "    \"\"\"\n",
    "    if nan_value:\n",
    "        df[column] = df[column].fillna(nan_value)\n",
    "    if str_to_replace:\n",
    "        df[column].replace(str_to_replace, replacement_str, inplace=True)\n",
    "    if rpl_dict:\n",
    "        df = convert_categories_to_int(df, column, rpl_dict)\n",
    "    df = df.astype({column:'float'})\n",
    "    return df"
   ]
  },
  {
   "cell_type": "code",
   "execution_count": 13,
   "metadata": {},
   "outputs": [],
   "source": [
    "def convert_categories_to_int(df, column, category_dict):\n",
    "    \"\"\"\n",
    "        DESC: converts a dataframe column content from string to int\n",
    "        INPUT: df - dataframe containing data\n",
    "               column - dataframe column\n",
    "               category_dict - dictionary with keys are strings to\n",
    "               be converted and values as replacement number\n",
    "        OUTPUT: a dataframe with specified column converted to int\n",
    "    \"\"\"\n",
    "    df[column] = df[column].replace(category_dict)\n",
    "    return df"
   ]
  },
  {
   "cell_type": "code",
   "execution_count": 14,
   "metadata": {},
   "outputs": [],
   "source": [
    "def clean_data(df, df_wlb, has_extras=False):\n",
    "    \"\"\"\n",
    "        DESC: cleans a dataframe\n",
    "        INPUT: df - dataframe containing data\n",
    "               df_wlb - a dictionary that contains replacement values for a column\n",
    "               has_extras - a boolean to check if a dataframe has extra columns\n",
    "        OUTPUT: a dataframe with specified column converted to int\n",
    "    \"\"\"\n",
    "    # remove duplicates\n",
    "    df.drop_duplicates(keep='first', inplace=True)\n",
    "    # get and drop columns with majority NAN\n",
    "    df_clean = drop_rows_with_majority_NAN(df)\n",
    "    # get and drop columns with majority NAN\n",
    "    nan_columns = get_columns_with_majority_NAN(df_clean)\n",
    "    df_clean.drop(nan_columns, axis=1, inplace=True)\n",
    "    # replace string values with floats\n",
    "    # Convert CAMEO_DEUG_2015 to float\n",
    "    df = preprocess_df_column(df_clean, 'CAMEO_DEUG_2015', 0, 'X', '-1')\n",
    "    # Convert CAMEO_DEU_2015 to float\n",
    "    wlb_dict = dict(zip(df_wlb['wlb_code'], df_wlb['category_value']))\n",
    "    df = preprocess_df_column(df, 'CAMEO_DEU_2015', 0, 'XX', '-1', wlb_dict)\n",
    "    # Convert CAMEO_INTL_2015 to float\n",
    "    df = preprocess_df_column(df, 'CAMEO_INTL_2015', 0, 'XX', '-1')\n",
    "    # Convert OST_WEST_KZ to float\n",
    "    gdr_frg = {'O': 0, 'W': 1}\n",
    "    df = preprocess_df_column(df, 'OST_WEST_KZ', 0, rpl_dict=gdr_frg)\n",
    "    if has_extras:\n",
    "        # Convert PRODUCT_GROUP to float\n",
    "        prdt_grp = {'FOOD': 1, 'COSMETIC': 2, 'COSMETIC_AND_FOOD': 3}\n",
    "        df = preprocess_df_column(df, 'PRODUCT_GROUP', rpl_dict=prdt_grp)\n",
    "        # Convert Customer CUSTOMER_GROUP to float\n",
    "        cust_grp = {'MULTI_BUYER': 1 , 'SINGLE_BUYER': 2}\n",
    "        df = preprocess_df_column(df, 'CUSTOMER_GROUP', 0, rpl_dict=cust_grp)\n",
    "    # Most of our columns should now have numeric values. We will drop the ones that do not have float values\n",
    "    # We have identified the two columns: 'D19_LETZTER_KAUF_BRANCHE' and 'EINGEFUEGT_AM'\n",
    "    # The column EINGEFUEGT_AM contains timestamp in string format, we will extract the year and drop the other column\n",
    "    df['EINGEFUEGT_AM'] = pd.to_datetime(df['EINGEFUEGT_AM'])\n",
    "    df['EINGEFUEGT_AM'] = df['EINGEFUEGT_AM'].dt.year\n",
    "    df.drop(['D19_LETZTER_KAUF_BRANCHE'], axis=1, inplace=True)\n",
    "    return df     "
   ]
  },
  {
   "cell_type": "code",
   "execution_count": 15,
   "metadata": {},
   "outputs": [
    {
     "data": {
      "image/png": "[encoded data removed]",
      "text/plain": [
       "<Figure size 1200x500 with 2 Axes>"
      ]
     },
     "metadata": {},
     "output_type": "display_data"
    }
   ],
   "source": [
    "display_NAN_distribution(customers_original)"
   ]
  },
  {
   "cell_type": "code",
   "execution_count": 16,
   "metadata": {},
   "outputs": [
    {
     "name": "stderr",
     "output_type": "stream",
     "text": [
      "/var/folders/t7/jqmr0_p12vj_nvw4t_6wmsf00000gn/T/ipykernel_96923/2727407309.py:15: SettingWithCopyWarning: \n",
      "A value is trying to be set on a copy of a slice from a DataFrame\n",
      "\n",
      "See the caveats in the documentation: https://pandas.pydata.org/pandas-docs/stable/user_guide/indexing.html#returning-a-view-versus-a-copy\n",
      "  df_clean.drop(nan_columns, axis=1, inplace=True)\n",
      "/var/folders/t7/jqmr0_p12vj_nvw4t_6wmsf00000gn/T/ipykernel_96923/2643539297.py:16: SettingWithCopyWarning: \n",
      "A value is trying to be set on a copy of a slice from a DataFrame\n",
      "\n",
      "See the caveats in the documentation: https://pandas.pydata.org/pandas-docs/stable/user_guide/indexing.html#returning-a-view-versus-a-copy\n",
      "  df[column].replace(str_to_replace, replacement_str, inplace=True)\n",
      "/var/folders/t7/jqmr0_p12vj_nvw4t_6wmsf00000gn/T/ipykernel_96923/2727407309.py:15: SettingWithCopyWarning: \n",
      "A value is trying to be set on a copy of a slice from a DataFrame\n",
      "\n",
      "See the caveats in the documentation: https://pandas.pydata.org/pandas-docs/stable/user_guide/indexing.html#returning-a-view-versus-a-copy\n",
      "  df_clean.drop(nan_columns, axis=1, inplace=True)\n",
      "/var/folders/t7/jqmr0_p12vj_nvw4t_6wmsf00000gn/T/ipykernel_96923/2643539297.py:16: SettingWithCopyWarning: \n",
      "A value is trying to be set on a copy of a slice from a DataFrame\n",
      "\n",
      "See the caveats in the documentation: https://pandas.pydata.org/pandas-docs/stable/user_guide/indexing.html#returning-a-view-versus-a-copy\n",
      "  df[column].replace(str_to_replace, replacement_str, inplace=True)\n"
     ]
    }
   ],
   "source": [
    "customers = clean_data(customers_original, df_wlb, has_extras=True)\n",
    "azdias = clean_data(azdias_original, df_wlb)"
   ]
  },
  {
   "cell_type": "code",
   "execution_count": 17,
   "metadata": {},
   "outputs": [
    {
     "data": {
      "text/plain": [
       "((140904, 365), (791990, 362), (191652, 370), (891221, 367))"
      ]
     },
     "execution_count": 17,
     "metadata": {},
     "output_type": "execute_result"
    }
   ],
   "source": [
    "customers.shape, azdias.shape, customers_original.shape, azdias_original.shape"
   ]
  },
  {
   "cell_type": "code",
   "execution_count": 18,
   "metadata": {},
   "outputs": [
    {
     "data": {
      "text/plain": [
       "(Index([], dtype='object'), Index([], dtype='object'))"
      ]
     },
     "execution_count": 18,
     "metadata": {},
     "output_type": "execute_result"
    }
   ],
   "source": [
    "# Let us checks our dataframes for any object column. None is expected\n",
    "customers_str = customers.select_dtypes(include=object)\n",
    "azdias_str = azdias.select_dtypes(include=object)\n",
    "customers_str.columns, azdias_str.columns"
   ]
  },
  {
   "cell_type": "code",
   "execution_count": 19,
   "metadata": {},
   "outputs": [],
   "source": [
    "# remove the three extra columns from customers. We want to make the two dataframes have the same column number\n",
    "customers.drop(['ONLINE_PURCHASE', 'PRODUCT_GROUP', 'CUSTOMER_GROUP'],\n",
    "               axis=1, inplace=True)"
   ]
  },
  {
   "cell_type": "markdown",
   "metadata": {},
   "source": [
    "## Part 1: Customer Segmentation Report\n",
    "\n",
    "The main bulk of your analysis will come in this part of the project. Here, you should use unsupervised learning techniques to describe the relationship between the demographics of the company's existing customers and the general population of Germany. By the end of this part, you should be able to describe parts of the general population that are more likely to be part of the mail-order company's main customer base, and which parts of the general population are less so."
   ]
  },
  {
   "cell_type": "markdown",
   "metadata": {},
   "source": [
    "### Feature Relevance\n",
    "In this section, we would extract relevant features from our dataframe. Let us explore some methods to use\n",
    "\n",
    "- Variance Threshold\n",
    "- Correlation Matrix\n",
    "- Unsupervised Random Forest (using feature importance)\n",
    "\n",
    "We will compare the results we get from this method and then decide on features we want to use. It is a good idea to create a copy of our dataframe before implementing any of these feature relevance techniques\n"
   ]
  },
  {
   "cell_type": "markdown",
   "metadata": {},
   "source": [
    "#### Variance Threshold\n",
    "Features with low variance are often less informative because they don't vary much across observations. We can eliminate features that have very little variability."
   ]
  },
  {
   "cell_type": "code",
   "execution_count": 20,
   "metadata": {},
   "outputs": [],
   "source": [
    "customers_df = customers.copy()\n",
    "azdias_df = azdias.copy()"
   ]
  },
  {
   "cell_type": "code",
   "execution_count": 21,
   "metadata": {},
   "outputs": [],
   "source": [
    "def get_irrelevant_features(X):\n",
    "    \"\"\"\n",
    "        DESC: A function to get least relevant features in a dataframe\n",
    "        INPUT: A dataframe with numerous features\n",
    "        OUTPUT: An array that contains least relevant features in a dataframe\n",
    "    \"\"\"\n",
    "    # Step 1: Scaling the features\n",
    "    scaler = StandardScaler()\n",
    "    X_scaled = scaler.fit_transform(X)\n",
    "    \n",
    "    # Step 2: Applying Variance Threshold\n",
    "    # Set a threshold value (e.g., 0.01 for low variance features)\n",
    "    threshold_value = 0.1\n",
    "    selector = VarianceThreshold(threshold=threshold_value)\n",
    "    X_reduced = selector.fit_transform(X_scaled)\n",
    "    \n",
    "    # Step 3: Convert back to DataFrame (optional) for easy viewing\n",
    "    X_reduced_df = pd.DataFrame(X_reduced, columns=X.columns[selector.get_support()])\n",
    "    all_features = X.columns.values\n",
    "    # find the difference\n",
    "    irrelevant_features = list(set(all_features) - set(X_reduced_df.columns.values))\n",
    "    return irrelevant_features"
   ]
  },
  {
   "cell_type": "code",
   "execution_count": 22,
   "metadata": {},
   "outputs": [],
   "source": [
    "irrelevant_features = get_irrelevant_features(customers_df)"
   ]
  },
  {
   "cell_type": "code",
   "execution_count": 23,
   "metadata": {},
   "outputs": [
    {
     "data": {
      "text/plain": [
       "['row_number']"
      ]
     },
     "execution_count": 23,
     "metadata": {},
     "output_type": "execute_result"
    }
   ],
   "source": [
    "irrelevant_features"
   ]
  },
  {
   "cell_type": "code",
   "execution_count": 24,
   "metadata": {},
   "outputs": [],
   "source": [
    "# let us drop these columns from our dataframe\n",
    "# notice how 'row number' is part of the irrelevant features. We will exclude the row number from the list of irrelevant features since we still need it\n",
    "irrelevant_features = [x for x in irrelevant_features if x != 'row_number']\n",
    "customers_df.drop(irrelevant_features,axis=1, inplace=True)\n",
    "azdias_df.drop(irrelevant_features,axis=1, inplace=True)\n"
   ]
  },
  {
   "cell_type": "markdown",
   "metadata": {},
   "source": [
    "#### Correlation Matrix\n",
    "- Compute the correlation matrix between features to identify highly correlated features (which can be redundant).\n",
    "- Remove one of the features in each pair of highly correlated features (e.g., with a correlation above 0.9)"
   ]
  },
  {
   "cell_type": "code",
   "execution_count": 25,
   "metadata": {},
   "outputs": [],
   "source": [
    "customers_df1 = customers_df.copy()\n",
    "azdias_df1 = azdias_df.copy()"
   ]
  },
  {
   "cell_type": "code",
   "execution_count": 26,
   "metadata": {},
   "outputs": [],
   "source": [
    "def get_redundant_features(df):\n",
    "    \"\"\"\n",
    "    DESC: A function to get redundant features in a dataframe\n",
    "    INPUT: A dataframe with numerous features\n",
    "    OUTPUT: An array that contains redundant features in a dataframe\n",
    "    \"\"\"\n",
    "    corr_matrix = pd.DataFrame(df).corr().abs()\n",
    "    upper_tri = corr_matrix.where(np.triu(np.ones(corr_matrix.shape), k=1).astype(bool))\n",
    "    redundant_features = [column for column in upper_tri.columns if any(upper_tri[column] > 0.85)]\n",
    "    return redundant_features"
   ]
  },
  {
   "cell_type": "code",
   "execution_count": 27,
   "metadata": {},
   "outputs": [
    {
     "data": {
      "text/plain": [
       "36"
      ]
     },
     "execution_count": 27,
     "metadata": {},
     "output_type": "execute_result"
    }
   ],
   "source": [
    "redundant_features = get_redundant_features(customers_df1)\n",
    "len(redundant_features)"
   ]
  },
  {
   "cell_type": "code",
   "execution_count": 28,
   "metadata": {},
   "outputs": [],
   "source": [
    "# let us drop these columns from our dataframe\n",
    "customers_df1.drop(redundant_features, axis=1, inplace=True)\n",
    "azdias_df1.drop(redundant_features, axis=1, inplace=True)"
   ]
  },
  {
   "cell_type": "code",
   "execution_count": null,
   "metadata": {},
   "outputs": [],
   "source": []
  },
  {
   "cell_type": "markdown",
   "metadata": {},
   "source": [
    "#### Unsupervised Random Forest (using feature importance)\n",
    "Instead of using IsolationForest, you can apply a Random Forest in an unsupervised setting by treating it as a clustering algorithm and then using the feature_importances_ attribute.\n",
    "\n",
    "Steps:\n",
    "- Convert the problem into a pseudo-supervised task.\n",
    "- Train a Random Forest \n",
    "- Extract feature importances.\n",
    "\n",
    "We need to replace Nan with -1. The choice of this value is based on what we observed from the data dictionary. For most columns, \"unknown\" values are represented with -1."
   ]
  },
  {
   "cell_type": "code",
   "execution_count": 29,
   "metadata": {},
   "outputs": [
    {
     "data": {
      "text/plain": [
       "215"
      ]
     },
     "execution_count": 29,
     "metadata": {},
     "output_type": "execute_result"
    }
   ],
   "source": [
    "# how many columns have a null value\n",
    "nan_columns = customers_df1.columns[customers_df1.isna().any()].tolist()\n",
    "len(nan_columns)"
   ]
  },
  {
   "cell_type": "code",
   "execution_count": 30,
   "metadata": {},
   "outputs": [],
   "source": [
    "# convert all null values to -1\n",
    "customers_df1 = customers_df1.fillna(-1)\n",
    "azdias_df1 = azdias_df1.fillna(-1)\n",
    "customers_df2 = customers_df1.copy()\n",
    "azdias_df2 = azdias_df1.copy()"
   ]
  },
  {
   "cell_type": "code",
   "execution_count": 31,
   "metadata": {},
   "outputs": [
    {
     "name": "stderr",
     "output_type": "stream",
     "text": [
      "/opt/anaconda3/lib/python3.11/site-packages/sklearn/cluster/_kmeans.py:870: FutureWarning: The default value of `n_init` will change from 10 to 'auto' in 1.4. Set the value of `n_init` explicitly to suppress the warning\n",
      "  warnings.warn(\n",
      "/opt/anaconda3/lib/python3.11/site-packages/sklearn/cluster/_kmeans.py:870: FutureWarning: The default value of `n_init` will change from 10 to 'auto' in 1.4. Set the value of `n_init` explicitly to suppress the warning\n",
      "  warnings.warn(\n",
      "/opt/anaconda3/lib/python3.11/site-packages/sklearn/cluster/_kmeans.py:870: FutureWarning: The default value of `n_init` will change from 10 to 'auto' in 1.4. Set the value of `n_init` explicitly to suppress the warning\n",
      "  warnings.warn(\n",
      "/opt/anaconda3/lib/python3.11/site-packages/sklearn/cluster/_kmeans.py:870: FutureWarning: The default value of `n_init` will change from 10 to 'auto' in 1.4. Set the value of `n_init` explicitly to suppress the warning\n",
      "  warnings.warn(\n",
      "/opt/anaconda3/lib/python3.11/site-packages/sklearn/cluster/_kmeans.py:870: FutureWarning: The default value of `n_init` will change from 10 to 'auto' in 1.4. Set the value of `n_init` explicitly to suppress the warning\n",
      "  warnings.warn(\n",
      "/opt/anaconda3/lib/python3.11/site-packages/sklearn/cluster/_kmeans.py:870: FutureWarning: The default value of `n_init` will change from 10 to 'auto' in 1.4. Set the value of `n_init` explicitly to suppress the warning\n",
      "  warnings.warn(\n",
      "/opt/anaconda3/lib/python3.11/site-packages/sklearn/cluster/_kmeans.py:870: FutureWarning: The default value of `n_init` will change from 10 to 'auto' in 1.4. Set the value of `n_init` explicitly to suppress the warning\n",
      "  warnings.warn(\n",
      "/opt/anaconda3/lib/python3.11/site-packages/sklearn/cluster/_kmeans.py:870: FutureWarning: The default value of `n_init` will change from 10 to 'auto' in 1.4. Set the value of `n_init` explicitly to suppress the warning\n",
      "  warnings.warn(\n",
      "/opt/anaconda3/lib/python3.11/site-packages/sklearn/cluster/_kmeans.py:870: FutureWarning: The default value of `n_init` will change from 10 to 'auto' in 1.4. Set the value of `n_init` explicitly to suppress the warning\n",
      "  warnings.warn(\n",
      "/opt/anaconda3/lib/python3.11/site-packages/sklearn/cluster/_kmeans.py:870: FutureWarning: The default value of `n_init` will change from 10 to 'auto' in 1.4. Set the value of `n_init` explicitly to suppress the warning\n",
      "  warnings.warn(\n",
      "/opt/anaconda3/lib/python3.11/site-packages/sklearn/cluster/_kmeans.py:870: FutureWarning: The default value of `n_init` will change from 10 to 'auto' in 1.4. Set the value of `n_init` explicitly to suppress the warning\n",
      "  warnings.warn(\n",
      "/opt/anaconda3/lib/python3.11/site-packages/sklearn/cluster/_kmeans.py:870: FutureWarning: The default value of `n_init` will change from 10 to 'auto' in 1.4. Set the value of `n_init` explicitly to suppress the warning\n",
      "  warnings.warn(\n",
      "/opt/anaconda3/lib/python3.11/site-packages/sklearn/cluster/_kmeans.py:870: FutureWarning: The default value of `n_init` will change from 10 to 'auto' in 1.4. Set the value of `n_init` explicitly to suppress the warning\n",
      "  warnings.warn(\n"
     ]
    },
    {
     "data": {
      "image/png": "[encoded data removed]",
      "text/plain": [
       "<Figure size 640x480 with 1 Axes>"
      ]
     },
     "metadata": {},
     "output_type": "display_data"
    }
   ],
   "source": [
    "# Range of k values to test for an appropriate cluster\n",
    "wcss = []\n",
    "for i in range(2, 15):\n",
    "    kmeans = KMeans(n_clusters=i, random_state=42)\n",
    "    kmeans.fit(customers_df2)  # X is your feature matrix\n",
    "    wcss.append(kmeans.inertia_)\n",
    "\n",
    "# Plotting the results to find the elbow point\n",
    "plt.plot(range(2, 15), wcss)\n",
    "plt.title('Elbow Method')\n",
    "plt.xlabel('Number of Clusters (k)')\n",
    "plt.ylabel('WCSS (Inertia)')\n",
    "plt.show()"
   ]
  },
  {
   "cell_type": "code",
   "execution_count": 32,
   "metadata": {},
   "outputs": [],
   "source": [
    "def reduce_df_to_100_features(df, k):\n",
    "    \"\"\"\n",
    "    DESC: A function to get the most relevant 100 features in a dataframe\n",
    "    INPUT: df - A dataframe with numerous features\n",
    "           k - number of cluster\n",
    "    OUTPUT: An array that contains redundant features in a dataframe\n",
    "    \"\"\"\n",
    "     # Step 1: Load and preprocess your dataset (df without labels)\n",
    "    df_original = df.copy()\n",
    "    \n",
    "    # Step 2: Create synthetic data by shuffling the original dataset\n",
    "    df_synthetic = df_original.apply(np.random.permutation)\n",
    "    \n",
    "    # Step 3: Concatenate real and synthetic data, and label them\n",
    "    df_combined = pd.concat([df_original, df_synthetic], axis=0)\n",
    "    labels = np.array([0] * df_original.shape[0] + [1] * df_synthetic.shape[0])\n",
    "    \n",
    "    # Step 4: Train an Unsupervised Random Forest (RFC as binary classifier) to distinguish real from synthetic data\n",
    "    clf = RandomForestClassifier(n_estimators=100, random_state=42)\n",
    "    clf.fit(df_combined, labels)\n",
    "    \n",
    "    # Step 5: Extract feature importance from the Random Forest\n",
    "    feature_importances = clf.feature_importances_\n",
    "    \n",
    "    # Step 6: Sort and select top N important features\n",
    "    top_n = 100  # Number of top features to keep (adjust based on your needs)\n",
    "    important_features = np.argsort(feature_importances)[::-1][:top_n]\n",
    "    df_reduced = df_original.iloc[:, important_features]\n",
    "    return df_reduced\n",
    "\n"
   ]
  },
  {
   "cell_type": "code",
   "execution_count": 33,
   "metadata": {},
   "outputs": [],
   "source": [
    "reduced_data = reduce_df_to_100_features(customers_df2, k=6)\n",
    "# notice how row number is  in our selected features\n",
    "top_100_features = list(reduced_data.columns.values)\n",
    "# add the row_number into the top features for easy tracking of records\n",
    "top_100_features.append('row_number')\n"
   ]
  },
  {
   "cell_type": "code",
   "execution_count": 34,
   "metadata": {},
   "outputs": [],
   "source": [
    "# aply selected features to dataframe\n",
    "customers_df3 = customers_df2[top_100_features]\n",
    "azdias_df3 = azdias_df2[top_100_features]"
   ]
  },
  {
   "cell_type": "code",
   "execution_count": 35,
   "metadata": {},
   "outputs": [
    {
     "data": {
      "text/plain": [
       "((140904, 101), (791990, 101))"
      ]
     },
     "execution_count": 35,
     "metadata": {},
     "output_type": "execute_result"
    }
   ],
   "source": [
    "customers_df3.shape, azdias_df3.shape"
   ]
  },
  {
   "cell_type": "markdown",
   "metadata": {},
   "source": [
    "Now that we have formatted our dataframes with top 100 relevant features, we can now start the process of customer segmentation"
   ]
  },
  {
   "cell_type": "markdown",
   "metadata": {},
   "source": [
    "#### K-Means Clustering\n",
    "We will use clustering methods like K-Means to group similar features and then select representative features from each cluster. \n",
    "To get an appropriate number of clusters needed for our data set, we will use the elbow method."
   ]
  },
  {
   "cell_type": "markdown",
   "metadata": {},
   "source": [
    "In the section below, we will find members of the general population (contained in azdias dataframe) that have similar features to the customers population (contained in customers dataframe). We will be using K-Means clustering. With this method, we would group rows from both customers and azdias dataframes and then identify which rows from azdias(general population) dataframe fall into clusters that also contain rows from customers dataframe. The steps are listed below:\n",
    "\n",
    "- Combine azdiaz(general population) and customers dataframe: Our data cleaning section makes this possible to do since there are now the same number of columns and data types in both dataframes.\n",
    "- Apply K-Means Clustering\n",
    "- Identify clusters that contain rows from both populations\n",
    "- Select rows from azdias dataframe (general population) that are in the same clusters as the customers dataframe\n"
   ]
  },
  {
   "cell_type": "code",
   "execution_count": 36,
   "metadata": {},
   "outputs": [
    {
     "name": "stderr",
     "output_type": "stream",
     "text": [
      "/opt/anaconda3/lib/python3.11/site-packages/sklearn/cluster/_kmeans.py:870: FutureWarning: The default value of `n_init` will change from 10 to 'auto' in 1.4. Set the value of `n_init` explicitly to suppress the warning\n",
      "  warnings.warn(\n",
      "/opt/anaconda3/lib/python3.11/site-packages/sklearn/cluster/_kmeans.py:870: FutureWarning: The default value of `n_init` will change from 10 to 'auto' in 1.4. Set the value of `n_init` explicitly to suppress the warning\n",
      "  warnings.warn(\n",
      "/opt/anaconda3/lib/python3.11/site-packages/sklearn/cluster/_kmeans.py:870: FutureWarning: The default value of `n_init` will change from 10 to 'auto' in 1.4. Set the value of `n_init` explicitly to suppress the warning\n",
      "  warnings.warn(\n",
      "/opt/anaconda3/lib/python3.11/site-packages/sklearn/cluster/_kmeans.py:870: FutureWarning: The default value of `n_init` will change from 10 to 'auto' in 1.4. Set the value of `n_init` explicitly to suppress the warning\n",
      "  warnings.warn(\n",
      "/opt/anaconda3/lib/python3.11/site-packages/sklearn/cluster/_kmeans.py:870: FutureWarning: The default value of `n_init` will change from 10 to 'auto' in 1.4. Set the value of `n_init` explicitly to suppress the warning\n",
      "  warnings.warn(\n",
      "/opt/anaconda3/lib/python3.11/site-packages/sklearn/cluster/_kmeans.py:870: FutureWarning: The default value of `n_init` will change from 10 to 'auto' in 1.4. Set the value of `n_init` explicitly to suppress the warning\n",
      "  warnings.warn(\n",
      "/opt/anaconda3/lib/python3.11/site-packages/sklearn/cluster/_kmeans.py:870: FutureWarning: The default value of `n_init` will change from 10 to 'auto' in 1.4. Set the value of `n_init` explicitly to suppress the warning\n",
      "  warnings.warn(\n",
      "/opt/anaconda3/lib/python3.11/site-packages/sklearn/cluster/_kmeans.py:870: FutureWarning: The default value of `n_init` will change from 10 to 'auto' in 1.4. Set the value of `n_init` explicitly to suppress the warning\n",
      "  warnings.warn(\n",
      "/opt/anaconda3/lib/python3.11/site-packages/sklearn/cluster/_kmeans.py:870: FutureWarning: The default value of `n_init` will change from 10 to 'auto' in 1.4. Set the value of `n_init` explicitly to suppress the warning\n",
      "  warnings.warn(\n",
      "/opt/anaconda3/lib/python3.11/site-packages/sklearn/cluster/_kmeans.py:870: FutureWarning: The default value of `n_init` will change from 10 to 'auto' in 1.4. Set the value of `n_init` explicitly to suppress the warning\n",
      "  warnings.warn(\n"
     ]
    },
    {
     "data": {
      "image/png": "[encoded data removed]",
      "text/plain": [
       "<Figure size 640x480 with 1 Axes>"
      ]
     },
     "metadata": {},
     "output_type": "display_data"
    }
   ],
   "source": [
    "# step 1 Combine azdiaz(general population) and customers dataframe\n",
    "all_population = pd.concat([azdias_df3, customers_df3], ignore_index=True)\n",
    "# Range of k values to test\n",
    "wcss = []\n",
    "for i in range(5, 15):\n",
    "    kmeans = KMeans(n_clusters=i, random_state=42)\n",
    "    kmeans.fit(all_population)  # X is your feature matrix\n",
    "    wcss.append(kmeans.inertia_)\n",
    "\n",
    "# Plotting the results to find the elbow point\n",
    "plt.plot(range(5, 15), wcss)\n",
    "plt.title('Elbow Method')\n",
    "plt.xlabel('Number of Clusters (k)')\n",
    "plt.ylabel('WCSS (Inertia)')\n",
    "plt.show()"
   ]
  },
  {
   "cell_type": "code",
   "execution_count": 37,
   "metadata": {},
   "outputs": [],
   "source": [
    "def get_segmented_population(all_population_df, target_population_df, k):\n",
    "    \"\"\"\n",
    "    DESC: A function to get a segmented population from a general population\n",
    "    INPUT: all_population_df - General population dataframe\n",
    "           target_population_df - population with features similar to our segmented population\n",
    "           k - number of cluster\n",
    "    OUTPUT: An array that contains segmented population\n",
    "    \"\"\"\n",
    "    # k = 10 # based on the graph above\n",
    "    # step 2 Apply Kmeans Clustering\n",
    "    kmeans = KMeans(n_clusters=k)\n",
    "    all_population_df['cluster'] = kmeans.fit_predict(all_population_df)\n",
    "    # step 3 Find clusters containing customers data\n",
    "    clusters_with_customers = set(all_population_df.iloc[len(target_population_df):]['cluster'])\n",
    "    # step 4 Select rows from azdias dataframe (general population) in the same clusters\n",
    "    segmented_population = all_population_df.loc[(all_population_df.index < len(target_population_df))\n",
    "                        & (all_population_df['cluster'].isin(clusters_with_customers))]\n",
    "    return segmented_population"
   ]
  },
  {
   "cell_type": "code",
   "execution_count": 39,
   "metadata": {},
   "outputs": [
    {
     "name": "stderr",
     "output_type": "stream",
     "text": [
      "/opt/anaconda3/lib/python3.11/site-packages/sklearn/cluster/_kmeans.py:870: FutureWarning: The default value of `n_init` will change from 10 to 'auto' in 1.4. Set the value of `n_init` explicitly to suppress the warning\n",
      "  warnings.warn(\n"
     ]
    }
   ],
   "source": [
    "segmented_population = get_segmented_population(all_population, azdias_df3,  k=10)"
   ]
  },
  {
   "cell_type": "code",
   "execution_count": 40,
   "metadata": {},
   "outputs": [
    {
     "data": {
      "text/plain": [
       "(46654, 102)"
      ]
     },
     "execution_count": 40,
     "metadata": {},
     "output_type": "execute_result"
    }
   ],
   "source": [
    "segmented_population.shape"
   ]
  },
  {
   "cell_type": "code",
   "execution_count": 41,
   "metadata": {},
   "outputs": [
    {
     "data": {
      "text/html": [
       "<div>\n",
       "<style scoped>\n",
       "    .dataframe tbody tr th:only-of-type {\n",
       "        vertical-align: middle;\n",
       "    }\n",
       "\n",
       "    .dataframe tbody tr th {\n",
       "        vertical-align: top;\n",
       "    }\n",
       "\n",
       "    .dataframe thead th {\n",
       "        text-align: right;\n",
       "    }\n",
       "</style>\n",
       "<table border=\"1\" class=\"dataframe\">\n",
       "  <thead>\n",
       "    <tr style=\"text-align: right;\">\n",
       "      <th></th>\n",
       "      <th>D19_GESAMT_DATUM</th>\n",
       "      <th>ANZ_HAUSHALTE_AKTIV</th>\n",
       "      <th>ALTERSKATEGORIE_FEIN</th>\n",
       "      <th>CJT_TYP_4</th>\n",
       "      <th>KBA05_ANTG1</th>\n",
       "      <th>EWDICHTE</th>\n",
       "      <th>D19_GESAMT_ONLINE_DATUM</th>\n",
       "      <th>GEMEINDETYP</th>\n",
       "      <th>MOBI_REGIO</th>\n",
       "      <th>KBA13_ANTG3</th>\n",
       "      <th>...</th>\n",
       "      <th>SEMIO_LUST</th>\n",
       "      <th>CJT_TYP_6</th>\n",
       "      <th>AGER_TYP</th>\n",
       "      <th>KBA13_CCM_1000</th>\n",
       "      <th>KBA13_CCM_1401_2500</th>\n",
       "      <th>KBA05_KW1</th>\n",
       "      <th>KBA05_MOD1</th>\n",
       "      <th>KBA05_VORB0</th>\n",
       "      <th>row_number</th>\n",
       "      <th>cluster</th>\n",
       "    </tr>\n",
       "  </thead>\n",
       "  <tbody>\n",
       "    <tr>\n",
       "      <th>0</th>\n",
       "      <td>10</td>\n",
       "      <td>11.0</td>\n",
       "      <td>21.0</td>\n",
       "      <td>3.0</td>\n",
       "      <td>0.0</td>\n",
       "      <td>3.0</td>\n",
       "      <td>10</td>\n",
       "      <td>22.0</td>\n",
       "      <td>1.0</td>\n",
       "      <td>2.0</td>\n",
       "      <td>...</td>\n",
       "      <td>2</td>\n",
       "      <td>1.0</td>\n",
       "      <td>-1</td>\n",
       "      <td>0.0</td>\n",
       "      <td>3.0</td>\n",
       "      <td>1.0</td>\n",
       "      <td>3.0</td>\n",
       "      <td>1.0</td>\n",
       "      <td>1</td>\n",
       "      <td>1</td>\n",
       "    </tr>\n",
       "    <tr>\n",
       "      <th>1</th>\n",
       "      <td>10</td>\n",
       "      <td>10.0</td>\n",
       "      <td>17.0</td>\n",
       "      <td>3.0</td>\n",
       "      <td>1.0</td>\n",
       "      <td>4.0</td>\n",
       "      <td>10</td>\n",
       "      <td>22.0</td>\n",
       "      <td>3.0</td>\n",
       "      <td>1.0</td>\n",
       "      <td>...</td>\n",
       "      <td>4</td>\n",
       "      <td>2.0</td>\n",
       "      <td>-1</td>\n",
       "      <td>1.0</td>\n",
       "      <td>3.0</td>\n",
       "      <td>3.0</td>\n",
       "      <td>0.0</td>\n",
       "      <td>4.0</td>\n",
       "      <td>2</td>\n",
       "      <td>1</td>\n",
       "    </tr>\n",
       "    <tr>\n",
       "      <th>2</th>\n",
       "      <td>10</td>\n",
       "      <td>1.0</td>\n",
       "      <td>13.0</td>\n",
       "      <td>4.0</td>\n",
       "      <td>4.0</td>\n",
       "      <td>2.0</td>\n",
       "      <td>10</td>\n",
       "      <td>40.0</td>\n",
       "      <td>4.0</td>\n",
       "      <td>1.0</td>\n",
       "      <td>...</td>\n",
       "      <td>4</td>\n",
       "      <td>3.0</td>\n",
       "      <td>2</td>\n",
       "      <td>4.0</td>\n",
       "      <td>2.0</td>\n",
       "      <td>3.0</td>\n",
       "      <td>2.0</td>\n",
       "      <td>2.0</td>\n",
       "      <td>3</td>\n",
       "      <td>1</td>\n",
       "    </tr>\n",
       "    <tr>\n",
       "      <th>3</th>\n",
       "      <td>1</td>\n",
       "      <td>3.0</td>\n",
       "      <td>14.0</td>\n",
       "      <td>4.0</td>\n",
       "      <td>1.0</td>\n",
       "      <td>5.0</td>\n",
       "      <td>1</td>\n",
       "      <td>21.0</td>\n",
       "      <td>3.0</td>\n",
       "      <td>2.0</td>\n",
       "      <td>...</td>\n",
       "      <td>4</td>\n",
       "      <td>3.0</td>\n",
       "      <td>-1</td>\n",
       "      <td>5.0</td>\n",
       "      <td>1.0</td>\n",
       "      <td>3.0</td>\n",
       "      <td>3.0</td>\n",
       "      <td>5.0</td>\n",
       "      <td>4</td>\n",
       "      <td>1</td>\n",
       "    </tr>\n",
       "    <tr>\n",
       "      <th>4</th>\n",
       "      <td>3</td>\n",
       "      <td>5.0</td>\n",
       "      <td>10.0</td>\n",
       "      <td>5.0</td>\n",
       "      <td>2.0</td>\n",
       "      <td>2.0</td>\n",
       "      <td>3</td>\n",
       "      <td>40.0</td>\n",
       "      <td>4.0</td>\n",
       "      <td>1.0</td>\n",
       "      <td>...</td>\n",
       "      <td>2</td>\n",
       "      <td>3.0</td>\n",
       "      <td>3</td>\n",
       "      <td>3.0</td>\n",
       "      <td>4.0</td>\n",
       "      <td>1.0</td>\n",
       "      <td>2.0</td>\n",
       "      <td>4.0</td>\n",
       "      <td>5</td>\n",
       "      <td>1</td>\n",
       "    </tr>\n",
       "    <tr>\n",
       "      <th>...</th>\n",
       "      <td>...</td>\n",
       "      <td>...</td>\n",
       "      <td>...</td>\n",
       "      <td>...</td>\n",
       "      <td>...</td>\n",
       "      <td>...</td>\n",
       "      <td>...</td>\n",
       "      <td>...</td>\n",
       "      <td>...</td>\n",
       "      <td>...</td>\n",
       "      <td>...</td>\n",
       "      <td>...</td>\n",
       "      <td>...</td>\n",
       "      <td>...</td>\n",
       "      <td>...</td>\n",
       "      <td>...</td>\n",
       "      <td>...</td>\n",
       "      <td>...</td>\n",
       "      <td>...</td>\n",
       "      <td>...</td>\n",
       "      <td>...</td>\n",
       "    </tr>\n",
       "    <tr>\n",
       "      <th>46649</th>\n",
       "      <td>10</td>\n",
       "      <td>2.0</td>\n",
       "      <td>9.0</td>\n",
       "      <td>5.0</td>\n",
       "      <td>2.0</td>\n",
       "      <td>2.0</td>\n",
       "      <td>10</td>\n",
       "      <td>40.0</td>\n",
       "      <td>5.0</td>\n",
       "      <td>0.0</td>\n",
       "      <td>...</td>\n",
       "      <td>4</td>\n",
       "      <td>5.0</td>\n",
       "      <td>2</td>\n",
       "      <td>1.0</td>\n",
       "      <td>4.0</td>\n",
       "      <td>3.0</td>\n",
       "      <td>2.0</td>\n",
       "      <td>2.0</td>\n",
       "      <td>52143</td>\n",
       "      <td>1</td>\n",
       "    </tr>\n",
       "    <tr>\n",
       "      <th>46650</th>\n",
       "      <td>7</td>\n",
       "      <td>1.0</td>\n",
       "      <td>17.0</td>\n",
       "      <td>2.0</td>\n",
       "      <td>-1.0</td>\n",
       "      <td>3.0</td>\n",
       "      <td>7</td>\n",
       "      <td>30.0</td>\n",
       "      <td>-1.0</td>\n",
       "      <td>1.0</td>\n",
       "      <td>...</td>\n",
       "      <td>2</td>\n",
       "      <td>3.0</td>\n",
       "      <td>-1</td>\n",
       "      <td>0.0</td>\n",
       "      <td>3.0</td>\n",
       "      <td>-1.0</td>\n",
       "      <td>-1.0</td>\n",
       "      <td>-1.0</td>\n",
       "      <td>52144</td>\n",
       "      <td>1</td>\n",
       "    </tr>\n",
       "    <tr>\n",
       "      <th>46651</th>\n",
       "      <td>2</td>\n",
       "      <td>1.0</td>\n",
       "      <td>19.0</td>\n",
       "      <td>2.0</td>\n",
       "      <td>4.0</td>\n",
       "      <td>2.0</td>\n",
       "      <td>2</td>\n",
       "      <td>40.0</td>\n",
       "      <td>4.0</td>\n",
       "      <td>1.0</td>\n",
       "      <td>...</td>\n",
       "      <td>3</td>\n",
       "      <td>1.0</td>\n",
       "      <td>-1</td>\n",
       "      <td>2.0</td>\n",
       "      <td>4.0</td>\n",
       "      <td>3.0</td>\n",
       "      <td>1.0</td>\n",
       "      <td>2.0</td>\n",
       "      <td>52145</td>\n",
       "      <td>1</td>\n",
       "    </tr>\n",
       "    <tr>\n",
       "      <th>46652</th>\n",
       "      <td>9</td>\n",
       "      <td>2.0</td>\n",
       "      <td>13.0</td>\n",
       "      <td>4.0</td>\n",
       "      <td>-1.0</td>\n",
       "      <td>2.0</td>\n",
       "      <td>10</td>\n",
       "      <td>40.0</td>\n",
       "      <td>-1.0</td>\n",
       "      <td>0.0</td>\n",
       "      <td>...</td>\n",
       "      <td>4</td>\n",
       "      <td>3.0</td>\n",
       "      <td>2</td>\n",
       "      <td>3.0</td>\n",
       "      <td>4.0</td>\n",
       "      <td>-1.0</td>\n",
       "      <td>-1.0</td>\n",
       "      <td>-1.0</td>\n",
       "      <td>52146</td>\n",
       "      <td>1</td>\n",
       "    </tr>\n",
       "    <tr>\n",
       "      <th>46654</th>\n",
       "      <td>3</td>\n",
       "      <td>2.0</td>\n",
       "      <td>17.0</td>\n",
       "      <td>2.0</td>\n",
       "      <td>4.0</td>\n",
       "      <td>4.0</td>\n",
       "      <td>3</td>\n",
       "      <td>40.0</td>\n",
       "      <td>5.0</td>\n",
       "      <td>1.0</td>\n",
       "      <td>...</td>\n",
       "      <td>6</td>\n",
       "      <td>1.0</td>\n",
       "      <td>-1</td>\n",
       "      <td>0.0</td>\n",
       "      <td>3.0</td>\n",
       "      <td>3.0</td>\n",
       "      <td>1.0</td>\n",
       "      <td>2.0</td>\n",
       "      <td>52148</td>\n",
       "      <td>1</td>\n",
       "    </tr>\n",
       "  </tbody>\n",
       "</table>\n",
       "<p>46654 rows × 102 columns</p>\n",
       "</div>"
      ],
      "text/plain": [
       "       D19_GESAMT_DATUM  ANZ_HAUSHALTE_AKTIV  ALTERSKATEGORIE_FEIN  CJT_TYP_4  \\\n",
       "0                    10                 11.0                  21.0        3.0   \n",
       "1                    10                 10.0                  17.0        3.0   \n",
       "2                    10                  1.0                  13.0        4.0   \n",
       "3                     1                  3.0                  14.0        4.0   \n",
       "4                     3                  5.0                  10.0        5.0   \n",
       "...                 ...                  ...                   ...        ...   \n",
       "46649                10                  2.0                   9.0        5.0   \n",
       "46650                 7                  1.0                  17.0        2.0   \n",
       "46651                 2                  1.0                  19.0        2.0   \n",
       "46652                 9                  2.0                  13.0        4.0   \n",
       "46654                 3                  2.0                  17.0        2.0   \n",
       "\n",
       "       KBA05_ANTG1  EWDICHTE  D19_GESAMT_ONLINE_DATUM  GEMEINDETYP  \\\n",
       "0              0.0       3.0                       10         22.0   \n",
       "1              1.0       4.0                       10         22.0   \n",
       "2              4.0       2.0                       10         40.0   \n",
       "3              1.0       5.0                        1         21.0   \n",
       "4              2.0       2.0                        3         40.0   \n",
       "...            ...       ...                      ...          ...   \n",
       "46649          2.0       2.0                       10         40.0   \n",
       "46650         -1.0       3.0                        7         30.0   \n",
       "46651          4.0       2.0                        2         40.0   \n",
       "46652         -1.0       2.0                       10         40.0   \n",
       "46654          4.0       4.0                        3         40.0   \n",
       "\n",
       "       MOBI_REGIO  KBA13_ANTG3  ...  SEMIO_LUST  CJT_TYP_6  AGER_TYP  \\\n",
       "0             1.0          2.0  ...           2        1.0        -1   \n",
       "1             3.0          1.0  ...           4        2.0        -1   \n",
       "2             4.0          1.0  ...           4        3.0         2   \n",
       "3             3.0          2.0  ...           4        3.0        -1   \n",
       "4             4.0          1.0  ...           2        3.0         3   \n",
       "...           ...          ...  ...         ...        ...       ...   \n",
       "46649         5.0          0.0  ...           4        5.0         2   \n",
       "46650        -1.0          1.0  ...           2        3.0        -1   \n",
       "46651         4.0          1.0  ...           3        1.0        -1   \n",
       "46652        -1.0          0.0  ...           4        3.0         2   \n",
       "46654         5.0          1.0  ...           6        1.0        -1   \n",
       "\n",
       "       KBA13_CCM_1000  KBA13_CCM_1401_2500  KBA05_KW1  KBA05_MOD1  \\\n",
       "0                 0.0                  3.0        1.0         3.0   \n",
       "1                 1.0                  3.0        3.0         0.0   \n",
       "2                 4.0                  2.0        3.0         2.0   \n",
       "3                 5.0                  1.0        3.0         3.0   \n",
       "4                 3.0                  4.0        1.0         2.0   \n",
       "...               ...                  ...        ...         ...   \n",
       "46649             1.0                  4.0        3.0         2.0   \n",
       "46650             0.0                  3.0       -1.0        -1.0   \n",
       "46651             2.0                  4.0        3.0         1.0   \n",
       "46652             3.0                  4.0       -1.0        -1.0   \n",
       "46654             0.0                  3.0        3.0         1.0   \n",
       "\n",
       "       KBA05_VORB0  row_number  cluster  \n",
       "0              1.0           1        1  \n",
       "1              4.0           2        1  \n",
       "2              2.0           3        1  \n",
       "3              5.0           4        1  \n",
       "4              4.0           5        1  \n",
       "...            ...         ...      ...  \n",
       "46649          2.0       52143        1  \n",
       "46650         -1.0       52144        1  \n",
       "46651          2.0       52145        1  \n",
       "46652         -1.0       52146        1  \n",
       "46654          2.0       52148        1  \n",
       "\n",
       "[46654 rows x 102 columns]"
      ]
     },
     "execution_count": 41,
     "metadata": {},
     "output_type": "execute_result"
    }
   ],
   "source": [
    "segmented_population"
   ]
  },
  {
   "cell_type": "markdown",
   "metadata": {},
   "source": [
    "Our K-Means clustering algorithm was able to identify approximately 46000 rows from the general population that share similar features \n",
    "with already existing customers. This accounts for approximaately 5% of the general population. Our client would be better off if they targeted this specific population than randomly targeting the entire population.\n"
   ]
  },
  {
   "cell_type": "markdown",
   "metadata": {},
   "source": [
    "#### Returning original data for recommended customers\n",
    "A new column was added to the recommended population, this is the cluster column. Our next step would be to reconstruct our recommendation data back to its original form. If we are going to hand over our data to the marketing department for example, they expect to see all the columns not juts 100 columns. This is where the IDs we introduced will become useful. We need to extract rows from the original dataframe that have same IDs as our recomendated population. We will use the following steps:\n",
    "- extract IDs from recommended data\n",
    "- Join with original data using the ID\n",
    "- Export original recommended data as CSV"
   ]
  },
  {
   "cell_type": "code",
   "execution_count": 42,
   "metadata": {},
   "outputs": [],
   "source": [
    "# step 1\n",
    "row_nums_df = segmented_population['row_number']\n",
    "# step 2\n",
    "recommended_df = pd.merge(azdias_original, row_nums_df,\n",
    "                          on='row_number', how='inner')\n"
   ]
  },
  {
   "cell_type": "code",
   "execution_count": 43,
   "metadata": {},
   "outputs": [
    {
     "data": {
      "text/plain": [
       "(46654, 366)"
      ]
     },
     "execution_count": 43,
     "metadata": {},
     "output_type": "execute_result"
    }
   ],
   "source": [
    "recommended_df.drop(columns=['row_number'], inplace=True)\n",
    "recommended_df.shape"
   ]
  },
  {
   "cell_type": "code",
   "execution_count": 44,
   "metadata": {},
   "outputs": [],
   "source": [
    "recommended_df.to_csv('recommended_customers.csv', index = False)"
   ]
  },
  {
   "cell_type": "code",
   "execution_count": null,
   "metadata": {},
   "outputs": [],
   "source": []
  },
  {
   "cell_type": "markdown",
   "metadata": {},
   "source": [
    "## Part 2: Supervised Learning Model\n",
    "\n",
    "Now that you've found which parts of the population are more likely to be customers of the mail-order company, it's time to build a prediction model. Each of the rows in the \"MAILOUT\" data files represents an individual that was targeted for a mailout campaign. Ideally, we should be able to use the demographic information from each individual to decide whether or not it will be worth it to include that person in the campaign.\n",
    "\n",
    "The \"MAILOUT\" data has been split into two approximately equal parts, each with almost 43 000 data rows. In this part, you can verify your model with the \"TRAIN\" partition, which includes a column, \"RESPONSE\", that states whether or not a person became a customer of the company following the campaign. In the next part, you'll need to create predictions on the \"TEST\" partition, where the \"RESPONSE\" column has been withheld."
   ]
  },
  {
   "cell_type": "code",
   "execution_count": 3,
   "metadata": {},
   "outputs": [
    {
     "name": "stderr",
     "output_type": "stream",
     "text": [
      "/var/folders/t7/jqmr0_p12vj_nvw4t_6wmsf00000gn/T/ipykernel_14863/2624572247.py:1: DtypeWarning: Columns (18,19) have mixed types. Specify dtype option on import or set low_memory=False.\n",
      "  mailout_train = pd.read_csv('data/Udacity_MAILOUT_052018_TRAIN.csv', sep=';')\n"
     ]
    }
   ],
   "source": [
    "mailout_train = pd.read_csv('data/Udacity_MAILOUT_052018_TRAIN.csv', sep=';')"
   ]
  },
  {
   "cell_type": "code",
   "execution_count": 4,
   "metadata": {},
   "outputs": [
    {
     "name": "stderr",
     "output_type": "stream",
     "text": [
      "/var/folders/t7/jqmr0_p12vj_nvw4t_6wmsf00000gn/T/ipykernel_14863/4118961090.py:1: DtypeWarning: Columns (18,19) have mixed types. Specify dtype option on import or set low_memory=False.\n",
      "  mailout_test = pd.read_csv('data/Udacity_MAILOUT_052018_TEST.csv', sep=';')\n"
     ]
    }
   ],
   "source": [
    "mailout_test = pd.read_csv('data/Udacity_MAILOUT_052018_TEST.csv', sep=';')"
   ]
  },
  {
   "cell_type": "code",
   "execution_count": 5,
   "metadata": {},
   "outputs": [
    {
     "data": {
      "text/plain": [
       "((42962, 367), (42833, 366))"
      ]
     },
     "execution_count": 5,
     "metadata": {},
     "output_type": "execute_result"
    }
   ],
   "source": [
    "mailout_train.shape, mailout_test.shape"
   ]
  },
  {
   "cell_type": "code",
   "execution_count": 6,
   "metadata": {},
   "outputs": [
    {
     "data": {
      "text/plain": [
       "RESPONSE\n",
       "0    42430\n",
       "1      532\n",
       "Name: count, dtype: int64"
      ]
     },
     "execution_count": 6,
     "metadata": {},
     "output_type": "execute_result"
    }
   ],
   "source": [
    "# check that RESPONSE is binary\n",
    "# our data is very unbalanced\n",
    "mailout_train['RESPONSE'].value_counts()"
   ]
  },
  {
   "cell_type": "code",
   "execution_count": 7,
   "metadata": {},
   "outputs": [
    {
     "data": {
      "text/plain": [
       "((42962, 366), (42833, 366), (42962,))"
      ]
     },
     "execution_count": 7,
     "metadata": {},
     "output_type": "execute_result"
    }
   ],
   "source": [
    "# We clean our data before creating a model\n",
    "X_train = mailout_train.drop('RESPONSE', axis = 1)\n",
    "X_test = mailout_test\n",
    "y_train = mailout_train['RESPONSE']\n",
    "X_train.shape, X_test.shape, y_train.shape"
   ]
  },
  {
   "cell_type": "markdown",
   "metadata": {},
   "source": [
    "##### Create a Model\n",
    "We will explore the two classifiers to create our model\n",
    "-  Random Forest Classifier\n",
    "-  XGBoost\n"
   ]
  },
  {
   "cell_type": "markdown",
   "metadata": {},
   "source": [
    "##### Random Forest Classifier\n",
    "We will go through the following steps to create a model that we can use to make prediction on our test data\n",
    "- Normalize data\n",
    "- Handle Imbalance Dataset\n",
    "- Train the Model\n",
    "- Make predictions on test data"
   ]
  },
  {
   "cell_type": "code",
   "execution_count": 8,
   "metadata": {},
   "outputs": [],
   "source": [
    "def build_model_rf():\n",
    "    # create a model that will be used to train our data to make predictions\n",
    "    model = ImbPipeline(steps=[\n",
    "    ('cleaner', DataSetCleaner()), # step 1: data cleaning\n",
    "    ('scaler', StandardScaler()),  # Sstep 2: Standard scaling\n",
    "    ('smote', SMOTE(random_state=42)),  # step 3: SMOTE for oversampling minority class\n",
    "    ('classifier', RandomForestClassifier(class_weight='balanced', random_state=42))  # step 4: Random Forest\n",
    "])\n",
    "    parameters = {\n",
    "        'classifier__n_estimators': [20, 50, 100],\n",
    "        'classifier__min_samples_split': [2, 4, 6],\n",
    "        'classifier__min_samples_leaf': [1, 2, 5]\n",
    "}\n",
    "\n",
    "    # create grid search object\n",
    "    #cv = GridSearchCV(model, param_grid=parameters)\n",
    "    cv = GridSearchCV(estimator=model, param_grid=parameters, scoring='roc_auc', cv=5)\n",
    "\n",
    "    \n",
    "    return cv"
   ]
  },
  {
   "cell_type": "code",
   "execution_count": 9,
   "metadata": {},
   "outputs": [
    {
     "name": "stdout",
     "output_type": "stream",
     "text": [
      "Best hyperparameters: {'classifier__min_samples_leaf': 5, 'classifier__min_samples_split': 2, 'classifier__n_estimators': 100}\n",
      "Best AUC-ROC score from GridSearchCV: 0.6402906902831608\n"
     ]
    }
   ],
   "source": [
    "model_rf = build_model_rf()\n",
    "model_rf.fit(X_train, y_train)\n",
    "# Output the best hyperparameters and AUC score\n",
    "print(\"Best hyperparameters:\", model_rf.best_params_)\n",
    "print(\"Best AUC-ROC score from GridSearchCV:\", model_rf.best_score_)\n"
   ]
  },
  {
   "cell_type": "code",
   "execution_count": 10,
   "metadata": {},
   "outputs": [
    {
     "name": "stdout",
     "output_type": "stream",
     "text": [
      "Value: 0, Count: 41410\n",
      "Value: 1, Count: 1423\n"
     ]
    }
   ],
   "source": [
    "y_pred = model_rf.predict(X_test)\n",
    "unique_values, counts = np.unique(y_pred, return_counts=True)\n",
    "for value, count in zip(unique_values, counts):\n",
    "    print(f\"Value: {value}, Count: {count}\")"
   ]
  },
  {
   "cell_type": "code",
   "execution_count": 12,
   "metadata": {},
   "outputs": [],
   "source": [
    "filename = 'model_rfc.pkl'\n",
    "pickle.dump(model_rf, open(filename, 'wb'))"
   ]
  },
  {
   "cell_type": "markdown",
   "metadata": {},
   "source": [
    "##### XGBoost\n",
    "Similar to what we did in the first model but we will use XGBoostClassifier and make predictions on the test data"
   ]
  },
  {
   "cell_type": "code",
   "execution_count": 19,
   "metadata": {},
   "outputs": [],
   "source": [
    "def build_model_xgb():\n",
    "    # create a model that will be used to train our data to make predictions\n",
    "    ratio = len(y_train[y_train == 0]) / len(y_train[y_train == 1])\n",
    "    model = ImbPipeline(steps=[\n",
    "    ('cleaner', DataSetCleaner()), # step 1: data cleaning\n",
    "    ('scaler', StandardScaler()),  # step 2: Standard scaling\n",
    "    ('smote', SMOTE(random_state=42)),  # step 3: SMOTE for oversampling minority class\n",
    "    ('classifier', XGBClassifier(scale_pos_weight=ratio,  random_state=42))  # step 4: XGBoost Classifier\n",
    "])\n",
    "    # Define the parameter grid\n",
    "    parameters = {\n",
    "        'classifier__n_estimators': [50, 100, 200],\n",
    "        'classifier__learning_rate': [0.01, 0.05, 0.1],\n",
    "        'classifier__max_depth': [3, 5, 7]\n",
    "    }\n",
    "    cv = GridSearchCV( estimator=model, param_grid=parameters, scoring='roc_auc')  \n",
    "\n",
    "    return cv"
   ]
  },
  {
   "cell_type": "code",
   "execution_count": 20,
   "metadata": {},
   "outputs": [
    {
     "name": "stdout",
     "output_type": "stream",
     "text": [
      "Best hyperparameters: {'classifier__learning_rate': 0.01, 'classifier__max_depth': 3, 'classifier__n_estimators': 100}\n",
      "Best AUC-ROC score from GridSearchCV: 0.7113838852403825\n"
     ]
    }
   ],
   "source": [
    "model_xgb = build_model_xgb()\n",
    "model_xgb.fit(X_train, y_train)\n",
    "# Output the best hyperparameters and AUC score\n",
    "print(\"Best hyperparameters:\", model_xgb.best_params_)\n",
    "print(\"Best AUC-ROC score from GridSearchCV:\", model_xgb.best_score_)"
   ]
  },
  {
   "cell_type": "code",
   "execution_count": 18,
   "metadata": {},
   "outputs": [
    {
     "name": "stdout",
     "output_type": "stream",
     "text": [
      "Value: 0, Count: 38543\n",
      "Value: 1, Count: 4290\n"
     ]
    }
   ],
   "source": [
    "y_pred = model_xgb.predict(X_test)\n",
    "unique_values, counts = np.unique(y_pred, return_counts=True)\n",
    "for value, count in zip(unique_values, counts):\n",
    "    print(f\"Value: {value}, Count: {count}\")"
   ]
  },
  {
   "cell_type": "code",
   "execution_count": null,
   "metadata": {},
   "outputs": [],
   "source": [
    "filename = 'model_xgbc.pkl'\n",
    "pickle.dump(model, open(filename, 'wb'))"
   ]
  },
  {
   "cell_type": "markdown",
   "metadata": {},
   "source": [
    "XGBoostClassifier seems to have better predictions when data is unbalanced. XGBoost has a parameter called scale_pos_weight specifically designed to handle imbalanced datasets. This parameter adjusts the weight of the positive class, compensating for the class imbalance."
   ]
  },
  {
   "cell_type": "code",
   "execution_count": null,
   "metadata": {},
   "outputs": [],
   "source": []
  },
  {
   "cell_type": "code",
   "execution_count": null,
   "metadata": {},
   "outputs": [],
   "source": []
  }
 ],
 "metadata": {
  "kernelspec": {
   "display_name": "Python 3 (ipykernel)",
   "language": "python",
   "name": "python3"
  },
  "language_info": {
   "codemirror_mode": {
    "name": "ipython",
    "version": 3
   },
   "file_extension": ".py",
   "mimetype": "text/x-python",
   "name": "python",
   "nbconvert_exporter": "python",
   "pygments_lexer": "ipython3",
   "version": "3.11.9"
  }
 },
 "nbformat": 4,
 "nbformat_minor": 4
}
